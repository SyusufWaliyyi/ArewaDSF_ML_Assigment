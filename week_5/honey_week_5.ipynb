{
 "cells": [
  {
   "cell_type": "markdown",
   "id": "b44027bb",
   "metadata": {},
   "source": [
    "# Import the necessary library"
   ]
  },
  {
   "cell_type": "code",
   "execution_count": 64,
   "id": "14748353",
   "metadata": {},
   "outputs": [],
   "source": [
    "import pandas as pd\n",
    "import numpy as np\n",
    "import matplotlib.pyplot as plt\n",
    "import seaborn as sns"
   ]
  },
  {
   "cell_type": "markdown",
   "id": "22a5bdda",
   "metadata": {},
   "source": [
    "# Load the dataset"
   ]
  },
  {
   "cell_type": "code",
   "execution_count": 65,
   "id": "207ef799",
   "metadata": {},
   "outputs": [
    {
     "data": {
      "application/vnd.microsoft.datawrangler.viewer.v0+json": {
       "columns": [
        {
         "name": "index",
         "rawType": "int64",
         "type": "integer"
        },
        {
         "name": "state",
         "rawType": "object",
         "type": "string"
        },
        {
         "name": "numcol",
         "rawType": "float64",
         "type": "float"
        },
        {
         "name": "yieldpercol",
         "rawType": "int64",
         "type": "integer"
        },
        {
         "name": "totalprod",
         "rawType": "float64",
         "type": "float"
        },
        {
         "name": "stocks",
         "rawType": "float64",
         "type": "float"
        },
        {
         "name": "priceperlb",
         "rawType": "float64",
         "type": "float"
        },
        {
         "name": "prodvalue",
         "rawType": "float64",
         "type": "float"
        },
        {
         "name": "year",
         "rawType": "int64",
         "type": "integer"
        }
       ],
       "ref": "b0f6eabf-23b0-4383-b9f5-97127ba26ab5",
       "rows": [
        [
         "0",
         "AL",
         "16000.0",
         "71",
         "1136000.0",
         "159000.0",
         "0.72",
         "818000.0",
         "1998"
        ],
        [
         "1",
         "AZ",
         "55000.0",
         "60",
         "3300000.0",
         "1485000.0",
         "0.64",
         "2112000.0",
         "1998"
        ],
        [
         "2",
         "AR",
         "53000.0",
         "65",
         "3445000.0",
         "1688000.0",
         "0.59",
         "2033000.0",
         "1998"
        ],
        [
         "3",
         "CA",
         "450000.0",
         "83",
         "37350000.0",
         "12326000.0",
         "0.62",
         "23157000.0",
         "1998"
        ],
        [
         "4",
         "CO",
         "27000.0",
         "72",
         "1944000.0",
         "1594000.0",
         "0.7",
         "1361000.0",
         "1998"
        ]
       ],
       "shape": {
        "columns": 8,
        "rows": 5
       }
      },
      "text/html": [
       "<div>\n",
       "<style scoped>\n",
       "    .dataframe tbody tr th:only-of-type {\n",
       "        vertical-align: middle;\n",
       "    }\n",
       "\n",
       "    .dataframe tbody tr th {\n",
       "        vertical-align: top;\n",
       "    }\n",
       "\n",
       "    .dataframe thead th {\n",
       "        text-align: right;\n",
       "    }\n",
       "</style>\n",
       "<table border=\"1\" class=\"dataframe\">\n",
       "  <thead>\n",
       "    <tr style=\"text-align: right;\">\n",
       "      <th></th>\n",
       "      <th>state</th>\n",
       "      <th>numcol</th>\n",
       "      <th>yieldpercol</th>\n",
       "      <th>totalprod</th>\n",
       "      <th>stocks</th>\n",
       "      <th>priceperlb</th>\n",
       "      <th>prodvalue</th>\n",
       "      <th>year</th>\n",
       "    </tr>\n",
       "  </thead>\n",
       "  <tbody>\n",
       "    <tr>\n",
       "      <th>0</th>\n",
       "      <td>AL</td>\n",
       "      <td>16000.0</td>\n",
       "      <td>71</td>\n",
       "      <td>1136000.0</td>\n",
       "      <td>159000.0</td>\n",
       "      <td>0.72</td>\n",
       "      <td>818000.0</td>\n",
       "      <td>1998</td>\n",
       "    </tr>\n",
       "    <tr>\n",
       "      <th>1</th>\n",
       "      <td>AZ</td>\n",
       "      <td>55000.0</td>\n",
       "      <td>60</td>\n",
       "      <td>3300000.0</td>\n",
       "      <td>1485000.0</td>\n",
       "      <td>0.64</td>\n",
       "      <td>2112000.0</td>\n",
       "      <td>1998</td>\n",
       "    </tr>\n",
       "    <tr>\n",
       "      <th>2</th>\n",
       "      <td>AR</td>\n",
       "      <td>53000.0</td>\n",
       "      <td>65</td>\n",
       "      <td>3445000.0</td>\n",
       "      <td>1688000.0</td>\n",
       "      <td>0.59</td>\n",
       "      <td>2033000.0</td>\n",
       "      <td>1998</td>\n",
       "    </tr>\n",
       "    <tr>\n",
       "      <th>3</th>\n",
       "      <td>CA</td>\n",
       "      <td>450000.0</td>\n",
       "      <td>83</td>\n",
       "      <td>37350000.0</td>\n",
       "      <td>12326000.0</td>\n",
       "      <td>0.62</td>\n",
       "      <td>23157000.0</td>\n",
       "      <td>1998</td>\n",
       "    </tr>\n",
       "    <tr>\n",
       "      <th>4</th>\n",
       "      <td>CO</td>\n",
       "      <td>27000.0</td>\n",
       "      <td>72</td>\n",
       "      <td>1944000.0</td>\n",
       "      <td>1594000.0</td>\n",
       "      <td>0.70</td>\n",
       "      <td>1361000.0</td>\n",
       "      <td>1998</td>\n",
       "    </tr>\n",
       "  </tbody>\n",
       "</table>\n",
       "</div>"
      ],
      "text/plain": [
       "  state    numcol  yieldpercol   totalprod      stocks  priceperlb  \\\n",
       "0    AL   16000.0           71   1136000.0    159000.0        0.72   \n",
       "1    AZ   55000.0           60   3300000.0   1485000.0        0.64   \n",
       "2    AR   53000.0           65   3445000.0   1688000.0        0.59   \n",
       "3    CA  450000.0           83  37350000.0  12326000.0        0.62   \n",
       "4    CO   27000.0           72   1944000.0   1594000.0        0.70   \n",
       "\n",
       "    prodvalue  year  \n",
       "0    818000.0  1998  \n",
       "1   2112000.0  1998  \n",
       "2   2033000.0  1998  \n",
       "3  23157000.0  1998  \n",
       "4   1361000.0  1998  "
      ]
     },
     "execution_count": 65,
     "metadata": {},
     "output_type": "execute_result"
    }
   ],
   "source": [
    "honey = pd.read_csv('honey.csv')\n",
    "honey.head()"
   ]
  },
  {
   "cell_type": "markdown",
   "id": "85eabc87",
   "metadata": {},
   "source": [
    "# Understanding the dataset"
   ]
  },
  {
   "cell_type": "markdown",
   "id": "b81380ad",
   "metadata": {},
   "source": [
    "Shape of the dataset"
   ]
  },
  {
   "cell_type": "code",
   "execution_count": 66,
   "id": "96d6b07f",
   "metadata": {},
   "outputs": [
    {
     "data": {
      "text/plain": [
       "(626, 8)"
      ]
     },
     "execution_count": 66,
     "metadata": {},
     "output_type": "execute_result"
    }
   ],
   "source": [
    "honey.shape"
   ]
  },
  {
   "cell_type": "markdown",
   "id": "cd7de047",
   "metadata": {},
   "source": [
    "Statistical Summary ofthe numerical column of the dataset"
   ]
  },
  {
   "cell_type": "code",
   "execution_count": 67,
   "id": "c00a2af0",
   "metadata": {},
   "outputs": [
    {
     "data": {
      "application/vnd.microsoft.datawrangler.viewer.v0+json": {
       "columns": [
        {
         "name": "index",
         "rawType": "object",
         "type": "string"
        },
        {
         "name": "numcol",
         "rawType": "float64",
         "type": "float"
        },
        {
         "name": "yieldpercol",
         "rawType": "float64",
         "type": "float"
        },
        {
         "name": "totalprod",
         "rawType": "float64",
         "type": "float"
        },
        {
         "name": "stocks",
         "rawType": "float64",
         "type": "float"
        },
        {
         "name": "priceperlb",
         "rawType": "float64",
         "type": "float"
        },
        {
         "name": "prodvalue",
         "rawType": "float64",
         "type": "float"
        },
        {
         "name": "year",
         "rawType": "float64",
         "type": "float"
        }
       ],
       "ref": "a57565e9-ab8d-464c-8aad-fd7d717582ae",
       "rows": [
        [
         "count",
         "626.0",
         "626.0",
         "626.0",
         "626.0",
         "626.0",
         "626.0",
         "626.0"
        ],
        [
         "mean",
         "60284.34504792332",
         "62.00958466453674",
         "4169086.2619808307",
         "1318859.4249201277",
         "1.4095686900958466",
         "4715741.214057508",
         "2004.8642172523962"
        ],
        [
         "std",
         "91077.08723125895",
         "19.458754019392412",
         "6883846.751268287",
         "2272963.665923199",
         "0.6385989458761433",
         "7976109.768560276",
         "4.317306283590021"
        ],
        [
         "min",
         "2000.0",
         "19.0",
         "84000.0",
         "8000.0",
         "0.49",
         "162000.0",
         "1998.0"
        ],
        [
         "25%",
         "9000.0",
         "48.0",
         "475000.0",
         "143000.0",
         "0.9325",
         "759250.0",
         "2001.0"
        ],
        [
         "50%",
         "26000.0",
         "60.0",
         "1533000.0",
         "439500.0",
         "1.36",
         "1841500.0",
         "2005.0"
        ],
        [
         "75%",
         "63750.0",
         "74.0",
         "4175250.0",
         "1489500.0",
         "1.68",
         "4703250.0",
         "2009.0"
        ],
        [
         "max",
         "510000.0",
         "136.0",
         "46410000.0",
         "13800000.0",
         "4.15",
         "69615000.0",
         "2012.0"
        ]
       ],
       "shape": {
        "columns": 7,
        "rows": 8
       }
      },
      "text/html": [
       "<div>\n",
       "<style scoped>\n",
       "    .dataframe tbody tr th:only-of-type {\n",
       "        vertical-align: middle;\n",
       "    }\n",
       "\n",
       "    .dataframe tbody tr th {\n",
       "        vertical-align: top;\n",
       "    }\n",
       "\n",
       "    .dataframe thead th {\n",
       "        text-align: right;\n",
       "    }\n",
       "</style>\n",
       "<table border=\"1\" class=\"dataframe\">\n",
       "  <thead>\n",
       "    <tr style=\"text-align: right;\">\n",
       "      <th></th>\n",
       "      <th>numcol</th>\n",
       "      <th>yieldpercol</th>\n",
       "      <th>totalprod</th>\n",
       "      <th>stocks</th>\n",
       "      <th>priceperlb</th>\n",
       "      <th>prodvalue</th>\n",
       "      <th>year</th>\n",
       "    </tr>\n",
       "  </thead>\n",
       "  <tbody>\n",
       "    <tr>\n",
       "      <th>count</th>\n",
       "      <td>626.000000</td>\n",
       "      <td>626.000000</td>\n",
       "      <td>6.260000e+02</td>\n",
       "      <td>6.260000e+02</td>\n",
       "      <td>626.000000</td>\n",
       "      <td>6.260000e+02</td>\n",
       "      <td>626.000000</td>\n",
       "    </tr>\n",
       "    <tr>\n",
       "      <th>mean</th>\n",
       "      <td>60284.345048</td>\n",
       "      <td>62.009585</td>\n",
       "      <td>4.169086e+06</td>\n",
       "      <td>1.318859e+06</td>\n",
       "      <td>1.409569</td>\n",
       "      <td>4.715741e+06</td>\n",
       "      <td>2004.864217</td>\n",
       "    </tr>\n",
       "    <tr>\n",
       "      <th>std</th>\n",
       "      <td>91077.087231</td>\n",
       "      <td>19.458754</td>\n",
       "      <td>6.883847e+06</td>\n",
       "      <td>2.272964e+06</td>\n",
       "      <td>0.638599</td>\n",
       "      <td>7.976110e+06</td>\n",
       "      <td>4.317306</td>\n",
       "    </tr>\n",
       "    <tr>\n",
       "      <th>min</th>\n",
       "      <td>2000.000000</td>\n",
       "      <td>19.000000</td>\n",
       "      <td>8.400000e+04</td>\n",
       "      <td>8.000000e+03</td>\n",
       "      <td>0.490000</td>\n",
       "      <td>1.620000e+05</td>\n",
       "      <td>1998.000000</td>\n",
       "    </tr>\n",
       "    <tr>\n",
       "      <th>25%</th>\n",
       "      <td>9000.000000</td>\n",
       "      <td>48.000000</td>\n",
       "      <td>4.750000e+05</td>\n",
       "      <td>1.430000e+05</td>\n",
       "      <td>0.932500</td>\n",
       "      <td>7.592500e+05</td>\n",
       "      <td>2001.000000</td>\n",
       "    </tr>\n",
       "    <tr>\n",
       "      <th>50%</th>\n",
       "      <td>26000.000000</td>\n",
       "      <td>60.000000</td>\n",
       "      <td>1.533000e+06</td>\n",
       "      <td>4.395000e+05</td>\n",
       "      <td>1.360000</td>\n",
       "      <td>1.841500e+06</td>\n",
       "      <td>2005.000000</td>\n",
       "    </tr>\n",
       "    <tr>\n",
       "      <th>75%</th>\n",
       "      <td>63750.000000</td>\n",
       "      <td>74.000000</td>\n",
       "      <td>4.175250e+06</td>\n",
       "      <td>1.489500e+06</td>\n",
       "      <td>1.680000</td>\n",
       "      <td>4.703250e+06</td>\n",
       "      <td>2009.000000</td>\n",
       "    </tr>\n",
       "    <tr>\n",
       "      <th>max</th>\n",
       "      <td>510000.000000</td>\n",
       "      <td>136.000000</td>\n",
       "      <td>4.641000e+07</td>\n",
       "      <td>1.380000e+07</td>\n",
       "      <td>4.150000</td>\n",
       "      <td>6.961500e+07</td>\n",
       "      <td>2012.000000</td>\n",
       "    </tr>\n",
       "  </tbody>\n",
       "</table>\n",
       "</div>"
      ],
      "text/plain": [
       "              numcol  yieldpercol     totalprod        stocks  priceperlb  \\\n",
       "count     626.000000   626.000000  6.260000e+02  6.260000e+02  626.000000   \n",
       "mean    60284.345048    62.009585  4.169086e+06  1.318859e+06    1.409569   \n",
       "std     91077.087231    19.458754  6.883847e+06  2.272964e+06    0.638599   \n",
       "min      2000.000000    19.000000  8.400000e+04  8.000000e+03    0.490000   \n",
       "25%      9000.000000    48.000000  4.750000e+05  1.430000e+05    0.932500   \n",
       "50%     26000.000000    60.000000  1.533000e+06  4.395000e+05    1.360000   \n",
       "75%     63750.000000    74.000000  4.175250e+06  1.489500e+06    1.680000   \n",
       "max    510000.000000   136.000000  4.641000e+07  1.380000e+07    4.150000   \n",
       "\n",
       "          prodvalue         year  \n",
       "count  6.260000e+02   626.000000  \n",
       "mean   4.715741e+06  2004.864217  \n",
       "std    7.976110e+06     4.317306  \n",
       "min    1.620000e+05  1998.000000  \n",
       "25%    7.592500e+05  2001.000000  \n",
       "50%    1.841500e+06  2005.000000  \n",
       "75%    4.703250e+06  2009.000000  \n",
       "max    6.961500e+07  2012.000000  "
      ]
     },
     "execution_count": 67,
     "metadata": {},
     "output_type": "execute_result"
    }
   ],
   "source": [
    "honey.describe()"
   ]
  },
  {
   "cell_type": "markdown",
   "id": "d3875a61",
   "metadata": {},
   "source": [
    "Year column should be a datetime\n",
    "\n",
    "but let see the datatype of the *year* column"
   ]
  },
  {
   "cell_type": "markdown",
   "id": "60e89260",
   "metadata": {},
   "source": [
    "Imformation about the dataset"
   ]
  },
  {
   "cell_type": "code",
   "execution_count": 68,
   "id": "f81994c4",
   "metadata": {},
   "outputs": [
    {
     "name": "stdout",
     "output_type": "stream",
     "text": [
      "<class 'pandas.core.frame.DataFrame'>\n",
      "RangeIndex: 626 entries, 0 to 625\n",
      "Data columns (total 8 columns):\n",
      " #   Column       Non-Null Count  Dtype  \n",
      "---  ------       --------------  -----  \n",
      " 0   state        626 non-null    object \n",
      " 1   numcol       626 non-null    float64\n",
      " 2   yieldpercol  626 non-null    int64  \n",
      " 3   totalprod    626 non-null    float64\n",
      " 4   stocks       626 non-null    float64\n",
      " 5   priceperlb   626 non-null    float64\n",
      " 6   prodvalue    626 non-null    float64\n",
      " 7   year         626 non-null    int64  \n",
      "dtypes: float64(5), int64(2), object(1)\n",
      "memory usage: 39.3+ KB\n"
     ]
    }
   ],
   "source": [
    "honey.info()"
   ]
  },
  {
   "cell_type": "markdown",
   "id": "47abbb85",
   "metadata": {},
   "source": [
    "# EDA"
   ]
  },
  {
   "cell_type": "markdown",
   "id": "3475f739",
   "metadata": {},
   "source": [
    "check for missing values"
   ]
  },
  {
   "cell_type": "code",
   "execution_count": 69,
   "id": "0ba5bbf2",
   "metadata": {},
   "outputs": [
    {
     "data": {
      "application/vnd.microsoft.datawrangler.viewer.v0+json": {
       "columns": [
        {
         "name": "index",
         "rawType": "object",
         "type": "string"
        },
        {
         "name": "0",
         "rawType": "int64",
         "type": "integer"
        }
       ],
       "ref": "44263f24-d6d8-420d-8cf2-9aac52c957d1",
       "rows": [
        [
         "state",
         "0"
        ],
        [
         "numcol",
         "0"
        ],
        [
         "yieldpercol",
         "0"
        ],
        [
         "totalprod",
         "0"
        ],
        [
         "stocks",
         "0"
        ],
        [
         "priceperlb",
         "0"
        ],
        [
         "prodvalue",
         "0"
        ],
        [
         "year",
         "0"
        ]
       ],
       "shape": {
        "columns": 1,
        "rows": 8
       }
      },
      "text/plain": [
       "state          0\n",
       "numcol         0\n",
       "yieldpercol    0\n",
       "totalprod      0\n",
       "stocks         0\n",
       "priceperlb     0\n",
       "prodvalue      0\n",
       "year           0\n",
       "dtype: int64"
      ]
     },
     "execution_count": 69,
     "metadata": {},
     "output_type": "execute_result"
    }
   ],
   "source": [
    "honey.isnull().sum()"
   ]
  },
  {
   "cell_type": "markdown",
   "id": "095c4593",
   "metadata": {},
   "source": [
    "The data contain no missing values"
   ]
  },
  {
   "cell_type": "markdown",
   "id": "5f3672ab",
   "metadata": {},
   "source": [
    "Covert year to datetime"
   ]
  },
  {
   "cell_type": "code",
   "execution_count": 70,
   "id": "9e631c22",
   "metadata": {},
   "outputs": [
    {
     "data": {
      "text/plain": [
       "dtype('int32')"
      ]
     },
     "execution_count": 70,
     "metadata": {},
     "output_type": "execute_result"
    }
   ],
   "source": [
    "honey['year'] = pd.to_datetime(honey['year'], format='%Y', errors='coerce').dt.year\n",
    "\n",
    "honey['year'].dtype"
   ]
  },
  {
   "cell_type": "markdown",
   "id": "3e2559d1",
   "metadata": {},
   "source": [
    "Checking for duplicate entery"
   ]
  },
  {
   "cell_type": "code",
   "execution_count": 71,
   "id": "336b6e65",
   "metadata": {},
   "outputs": [
    {
     "name": "stdout",
     "output_type": "stream",
     "text": [
      "Is there duplicate?: False\n",
      "How many duplicate are there?: 0\n"
     ]
    }
   ],
   "source": [
    "print(f\"Is there duplicate?: {honey.duplicated().any()}\")\n",
    "\n",
    "print(f\"How many duplicate are there?: {honey.duplicated().sum()}\")"
   ]
  },
  {
   "cell_type": "markdown",
   "id": "1868d44d",
   "metadata": {},
   "source": [
    "There is no single duplicate."
   ]
  },
  {
   "cell_type": "markdown",
   "id": "235af0a6",
   "metadata": {},
   "source": [
    "# Analysis"
   ]
  },
  {
   "cell_type": "markdown",
   "id": "e8de6273",
   "metadata": {},
   "source": [
    "Time Series Analysis on the dataset"
   ]
  },
  {
   "cell_type": "markdown",
   "id": "30675d68",
   "metadata": {},
   "source": [
    "Let group the dataset by year and make some visualization"
   ]
  },
  {
   "cell_type": "code",
   "execution_count": 72,
   "id": "da70f05b",
   "metadata": {},
   "outputs": [
    {
     "data": {
      "application/vnd.microsoft.datawrangler.viewer.v0+json": {
       "columns": [
        {
         "name": "year",
         "rawType": "int32",
         "type": "integer"
        },
        {
         "name": "numcol",
         "rawType": "float64",
         "type": "float"
        },
        {
         "name": "yieldpercol",
         "rawType": "int64",
         "type": "integer"
        },
        {
         "name": "totalprod",
         "rawType": "float64",
         "type": "float"
        },
        {
         "name": "stocks",
         "rawType": "float64",
         "type": "float"
        },
        {
         "name": "priceperlb",
         "rawType": "float64",
         "type": "float"
        },
        {
         "name": "prodvalue",
         "rawType": "float64",
         "type": "float"
        }
       ],
       "ref": "c449bba6-44d7-419e-bc0e-9616da2f6141",
       "rows": [
        [
         "1998",
         "2621000.0",
         "3008",
         "219519000.0",
         "80565000.0",
         "35.8",
         "146091000.0"
        ],
        [
         "1999",
         "2637000.0",
         "2815",
         "202387000.0",
         "78390000.0",
         "34.58",
         "123657000.0"
        ],
        [
         "2000",
         "2604000.0",
         "2906",
         "219558000.0",
         "84956000.0",
         "34.03",
         "131568000.0"
        ],
        [
         "2001",
         "2542000.0",
         "2840",
         "185748000.0",
         "64764000.0",
         "40.12",
         "132282000.0"
        ],
        [
         "2002",
         "2565000.0",
         "2939",
         "171265000.0",
         "39177000.0",
         "60.339999999999996",
         "227302000.0"
        ],
        [
         "2003",
         "2591000.0",
         "2752",
         "181372000.0",
         "40619000.0",
         "65.77",
         "252079000.0"
        ],
        [
         "2004",
         "2539000.0",
         "2657",
         "182729000.0",
         "60981000.0",
         "52.67",
         "197307000.0"
        ],
        [
         "2005",
         "2394000.0",
         "2635",
         "173969000.0",
         "62187000.0",
         "49.0",
         "160793000.0"
        ],
        [
         "2006",
         "2378000.0",
         "2536",
         "154238000.0",
         "60235000.0",
         "53.45",
         "157924000.0"
        ],
        [
         "2007",
         "2428000.0",
         "2426",
         "147621000.0",
         "52405000.0",
         "58.97",
         "161356000.0"
        ],
        [
         "2008",
         "2326000.0",
         "2501",
         "162972000.0",
         "50996000.0",
         "66.65",
         "229992000.0"
        ],
        [
         "2009",
         "2472000.0",
         "2154",
         "145068000.0",
         "37322000.0",
         "72.48",
         "213920000.0"
        ],
        [
         "2010",
         "2666000.0",
         "2251",
         "175294000.0",
         "44797000.0",
         "77.16",
         "278370000.0"
        ],
        [
         "2011",
         "2466000.0",
         "2191",
         "147201000.0",
         "36550000.0",
         "86.69",
         "258688000.0"
        ],
        [
         "2012",
         "2509000.0",
         "2207",
         "140907000.0",
         "31662000.0",
         "94.67999999999999",
         "280725000.0"
        ]
       ],
       "shape": {
        "columns": 6,
        "rows": 15
       }
      },
      "text/html": [
       "<div>\n",
       "<style scoped>\n",
       "    .dataframe tbody tr th:only-of-type {\n",
       "        vertical-align: middle;\n",
       "    }\n",
       "\n",
       "    .dataframe tbody tr th {\n",
       "        vertical-align: top;\n",
       "    }\n",
       "\n",
       "    .dataframe thead th {\n",
       "        text-align: right;\n",
       "    }\n",
       "</style>\n",
       "<table border=\"1\" class=\"dataframe\">\n",
       "  <thead>\n",
       "    <tr style=\"text-align: right;\">\n",
       "      <th></th>\n",
       "      <th>numcol</th>\n",
       "      <th>yieldpercol</th>\n",
       "      <th>totalprod</th>\n",
       "      <th>stocks</th>\n",
       "      <th>priceperlb</th>\n",
       "      <th>prodvalue</th>\n",
       "    </tr>\n",
       "    <tr>\n",
       "      <th>year</th>\n",
       "      <th></th>\n",
       "      <th></th>\n",
       "      <th></th>\n",
       "      <th></th>\n",
       "      <th></th>\n",
       "      <th></th>\n",
       "    </tr>\n",
       "  </thead>\n",
       "  <tbody>\n",
       "    <tr>\n",
       "      <th>1998</th>\n",
       "      <td>2621000.0</td>\n",
       "      <td>3008</td>\n",
       "      <td>219519000.0</td>\n",
       "      <td>80565000.0</td>\n",
       "      <td>35.80</td>\n",
       "      <td>146091000.0</td>\n",
       "    </tr>\n",
       "    <tr>\n",
       "      <th>1999</th>\n",
       "      <td>2637000.0</td>\n",
       "      <td>2815</td>\n",
       "      <td>202387000.0</td>\n",
       "      <td>78390000.0</td>\n",
       "      <td>34.58</td>\n",
       "      <td>123657000.0</td>\n",
       "    </tr>\n",
       "    <tr>\n",
       "      <th>2000</th>\n",
       "      <td>2604000.0</td>\n",
       "      <td>2906</td>\n",
       "      <td>219558000.0</td>\n",
       "      <td>84956000.0</td>\n",
       "      <td>34.03</td>\n",
       "      <td>131568000.0</td>\n",
       "    </tr>\n",
       "    <tr>\n",
       "      <th>2001</th>\n",
       "      <td>2542000.0</td>\n",
       "      <td>2840</td>\n",
       "      <td>185748000.0</td>\n",
       "      <td>64764000.0</td>\n",
       "      <td>40.12</td>\n",
       "      <td>132282000.0</td>\n",
       "    </tr>\n",
       "    <tr>\n",
       "      <th>2002</th>\n",
       "      <td>2565000.0</td>\n",
       "      <td>2939</td>\n",
       "      <td>171265000.0</td>\n",
       "      <td>39177000.0</td>\n",
       "      <td>60.34</td>\n",
       "      <td>227302000.0</td>\n",
       "    </tr>\n",
       "    <tr>\n",
       "      <th>2003</th>\n",
       "      <td>2591000.0</td>\n",
       "      <td>2752</td>\n",
       "      <td>181372000.0</td>\n",
       "      <td>40619000.0</td>\n",
       "      <td>65.77</td>\n",
       "      <td>252079000.0</td>\n",
       "    </tr>\n",
       "    <tr>\n",
       "      <th>2004</th>\n",
       "      <td>2539000.0</td>\n",
       "      <td>2657</td>\n",
       "      <td>182729000.0</td>\n",
       "      <td>60981000.0</td>\n",
       "      <td>52.67</td>\n",
       "      <td>197307000.0</td>\n",
       "    </tr>\n",
       "    <tr>\n",
       "      <th>2005</th>\n",
       "      <td>2394000.0</td>\n",
       "      <td>2635</td>\n",
       "      <td>173969000.0</td>\n",
       "      <td>62187000.0</td>\n",
       "      <td>49.00</td>\n",
       "      <td>160793000.0</td>\n",
       "    </tr>\n",
       "    <tr>\n",
       "      <th>2006</th>\n",
       "      <td>2378000.0</td>\n",
       "      <td>2536</td>\n",
       "      <td>154238000.0</td>\n",
       "      <td>60235000.0</td>\n",
       "      <td>53.45</td>\n",
       "      <td>157924000.0</td>\n",
       "    </tr>\n",
       "    <tr>\n",
       "      <th>2007</th>\n",
       "      <td>2428000.0</td>\n",
       "      <td>2426</td>\n",
       "      <td>147621000.0</td>\n",
       "      <td>52405000.0</td>\n",
       "      <td>58.97</td>\n",
       "      <td>161356000.0</td>\n",
       "    </tr>\n",
       "    <tr>\n",
       "      <th>2008</th>\n",
       "      <td>2326000.0</td>\n",
       "      <td>2501</td>\n",
       "      <td>162972000.0</td>\n",
       "      <td>50996000.0</td>\n",
       "      <td>66.65</td>\n",
       "      <td>229992000.0</td>\n",
       "    </tr>\n",
       "    <tr>\n",
       "      <th>2009</th>\n",
       "      <td>2472000.0</td>\n",
       "      <td>2154</td>\n",
       "      <td>145068000.0</td>\n",
       "      <td>37322000.0</td>\n",
       "      <td>72.48</td>\n",
       "      <td>213920000.0</td>\n",
       "    </tr>\n",
       "    <tr>\n",
       "      <th>2010</th>\n",
       "      <td>2666000.0</td>\n",
       "      <td>2251</td>\n",
       "      <td>175294000.0</td>\n",
       "      <td>44797000.0</td>\n",
       "      <td>77.16</td>\n",
       "      <td>278370000.0</td>\n",
       "    </tr>\n",
       "    <tr>\n",
       "      <th>2011</th>\n",
       "      <td>2466000.0</td>\n",
       "      <td>2191</td>\n",
       "      <td>147201000.0</td>\n",
       "      <td>36550000.0</td>\n",
       "      <td>86.69</td>\n",
       "      <td>258688000.0</td>\n",
       "    </tr>\n",
       "    <tr>\n",
       "      <th>2012</th>\n",
       "      <td>2509000.0</td>\n",
       "      <td>2207</td>\n",
       "      <td>140907000.0</td>\n",
       "      <td>31662000.0</td>\n",
       "      <td>94.68</td>\n",
       "      <td>280725000.0</td>\n",
       "    </tr>\n",
       "  </tbody>\n",
       "</table>\n",
       "</div>"
      ],
      "text/plain": [
       "         numcol  yieldpercol    totalprod      stocks  priceperlb    prodvalue\n",
       "year                                                                          \n",
       "1998  2621000.0         3008  219519000.0  80565000.0       35.80  146091000.0\n",
       "1999  2637000.0         2815  202387000.0  78390000.0       34.58  123657000.0\n",
       "2000  2604000.0         2906  219558000.0  84956000.0       34.03  131568000.0\n",
       "2001  2542000.0         2840  185748000.0  64764000.0       40.12  132282000.0\n",
       "2002  2565000.0         2939  171265000.0  39177000.0       60.34  227302000.0\n",
       "2003  2591000.0         2752  181372000.0  40619000.0       65.77  252079000.0\n",
       "2004  2539000.0         2657  182729000.0  60981000.0       52.67  197307000.0\n",
       "2005  2394000.0         2635  173969000.0  62187000.0       49.00  160793000.0\n",
       "2006  2378000.0         2536  154238000.0  60235000.0       53.45  157924000.0\n",
       "2007  2428000.0         2426  147621000.0  52405000.0       58.97  161356000.0\n",
       "2008  2326000.0         2501  162972000.0  50996000.0       66.65  229992000.0\n",
       "2009  2472000.0         2154  145068000.0  37322000.0       72.48  213920000.0\n",
       "2010  2666000.0         2251  175294000.0  44797000.0       77.16  278370000.0\n",
       "2011  2466000.0         2191  147201000.0  36550000.0       86.69  258688000.0\n",
       "2012  2509000.0         2207  140907000.0  31662000.0       94.68  280725000.0"
      ]
     },
     "execution_count": 72,
     "metadata": {},
     "output_type": "execute_result"
    }
   ],
   "source": [
    "honey_by_year = honey.groupby('year')[['numcol','yieldpercol','totalprod','stocks','priceperlb', 'prodvalue']].sum()\n",
    "honey_by_year"
   ]
  },
  {
   "cell_type": "markdown",
   "id": "bc4d26cd",
   "metadata": {},
   "source": [
    "Let understand the correlation between the production and what it was value"
   ]
  },
  {
   "cell_type": "code",
   "execution_count": 73,
   "id": "f590e385",
   "metadata": {},
   "outputs": [
    {
     "data": {
      "image/png": "[encoded data removed]",
      "text/plain": [
       "<Figure size 1500x1500 with 6 Axes>"
      ]
     },
     "metadata": {},
     "output_type": "display_data"
    }
   ],
   "source": [
    "# Create a subplot for each column\n",
    "fig, axes = plt.subplots(nrows=3, ncols=2, figsize=(15, 15))\n",
    "sns.lineplot(x=honey_by_year.index, y=honey_by_year['numcol'], ax=axes[0, 0])\n",
    "axes[0, 0].set_title('Number of Bee Colonies Over Years')\n",
    "sns.lineplot(x=honey_by_year.index, y=honey_by_year['yieldpercol'], ax=axes[0, 1])\n",
    "axes[0, 1].set_title('Yield per Colony Over Years')\n",
    "sns.lineplot(x=honey_by_year.index, y=honey_by_year['totalprod'], ax=axes[1, 0])\n",
    "axes[1, 0].set_title('Total Production Over Years')\n",
    "sns.lineplot(x=honey_by_year.index, y=honey_by_year['stocks'], ax=axes[1, 1])\n",
    "axes[1, 1].set_title('Stocks Over Years')\n",
    "sns.lineplot(x=honey_by_year.index, y=honey_by_year['priceperlb'], ax=axes[2, 0])\n",
    "axes[2, 0].set_title('Price per Pound Over Years')\n",
    "sns.lineplot(x=honey_by_year.index, y=honey_by_year['prodvalue'], ax=axes[2, 1])\n",
    "axes[2, 1].set_title('Production Value Over Years')\n",
    "plt.tight_layout()\n",
    "plt.suptitle('Honey Production Analysis Over Years', fontsize=20, y=1.02)\n",
    "plt.show()"
   ]
  },
  {
   "cell_type": "markdown",
   "id": "d6177236",
   "metadata": {},
   "source": [
    "Insight from the plot\n",
    "plot [0, 0]: There is general decline in the number of colonies from 1998 until 2008, when there is a spike in the number of the bees colonies\n",
    "\n",
    "plot [0, 1]: Reduction in the nummber of colonies mean low yield which could not even be regain in 2008 despite increase in the number of the colonies.\n",
    "\n",
    "plot [1, 0]: This lead to the drop in the honey production.\n",
    "\n",
    "plot [1, 1]: The stock droprapidly although it rises somewhere around 2004 to 2025. However it could not be sustain for quite long.\n",
    "\n",
    "plot [2, 0]: Two things can be attributed to the increase in the price, it might be due to inflation or most likely the scarcity of the honey\n",
    "\n",
    "plot [2, 1] The production value falls within and rapidly increases untill somewhere around 2003 when it experience a sharp decline from 2.5e08 to 1.6e08. The value stabilizes from 2005 to 2007 before it generally rises again."
   ]
  },
  {
   "cell_type": "markdown",
   "id": "a3c1d8a9",
   "metadata": {},
   "source": [
    "Let understand the states statisctics"
   ]
  },
  {
   "cell_type": "code",
   "execution_count": 74,
   "id": "35f5fb18",
   "metadata": {},
   "outputs": [
    {
     "data": {
      "text/plain": [
       "(44, 6)"
      ]
     },
     "execution_count": 74,
     "metadata": {},
     "output_type": "execute_result"
    }
   ],
   "source": [
    "honey_by_state = honey.groupby('state')[['numcol','yieldpercol','totalprod','stocks','priceperlb', 'prodvalue']].sum()\n",
    "honey_by_state.shape"
   ]
  },
  {
   "cell_type": "code",
   "execution_count": 75,
   "id": "3697586e",
   "metadata": {},
   "outputs": [
    {
     "data": {
      "application/vnd.microsoft.datawrangler.viewer.v0+json": {
       "columns": [
        {
         "name": "index",
         "rawType": "object",
         "type": "string"
        },
        {
         "name": "CA",
         "rawType": "float64",
         "type": "float"
        }
       ],
       "ref": "831befef-b517-409c-8df4-f63d92cf8966",
       "rows": [
        [
         "numcol",
         "6100000.0"
        ],
        [
         "yieldpercol",
         "837.0"
        ],
        [
         "totalprod",
         "347535000.0"
        ],
        [
         "stocks",
         "96807000.0"
        ],
        [
         "priceperlb",
         "17.0"
        ],
        [
         "prodvalue",
         "365390000.0"
        ]
       ],
       "shape": {
        "columns": 1,
        "rows": 6
       }
      },
      "text/plain": [
       "numcol           6100000.0\n",
       "yieldpercol          837.0\n",
       "totalprod      347535000.0\n",
       "stocks          96807000.0\n",
       "priceperlb            17.0\n",
       "prodvalue      365390000.0\n",
       "Name: CA, dtype: float64"
      ]
     },
     "execution_count": 75,
     "metadata": {},
     "output_type": "execute_result"
    }
   ],
   "source": [
    "# Maximum number of colonies in a state\n",
    "max_colonies_state = honey_by_state['numcol'].idxmax()\n",
    "honey_by_state.loc[max_colonies_state] # max_colonies_state"
   ]
  },
  {
   "cell_type": "code",
   "execution_count": 76,
   "id": "9d3119bc",
   "metadata": {},
   "outputs": [
    {
     "data": {
      "application/vnd.microsoft.datawrangler.viewer.v0+json": {
       "columns": [
        {
         "name": "index",
         "rawType": "object",
         "type": "string"
        },
        {
         "name": "SC",
         "rawType": "float64",
         "type": "float"
        }
       ],
       "ref": "ddc44581-e966-46ce-9cf1-116a3a142c95",
       "rows": [
        [
         "numcol",
         "16000.0"
        ],
        [
         "yieldpercol",
         "204.0"
        ],
        [
         "totalprod",
         "1030000.0"
        ],
        [
         "stocks",
         "89000.0"
        ],
        [
         "priceperlb",
         "3.9299999999999997"
        ],
        [
         "prodvalue",
         "1338000.0"
        ]
       ],
       "shape": {
        "columns": 1,
        "rows": 6
       }
      },
      "text/plain": [
       "numcol           16000.00\n",
       "yieldpercol        204.00\n",
       "totalprod      1030000.00\n",
       "stocks           89000.00\n",
       "priceperlb           3.93\n",
       "prodvalue      1338000.00\n",
       "Name: SC, dtype: float64"
      ]
     },
     "execution_count": 76,
     "metadata": {},
     "output_type": "execute_result"
    }
   ],
   "source": [
    "# Minimum number of colonies in a state\n",
    "min_colonies_state = honey_by_state['numcol'].idxmin()\n",
    "honey_by_state.loc[min_colonies_state] # min_colonies_state"
   ]
  },
  {
   "cell_type": "code",
   "execution_count": 77,
   "id": "8d07c2c9",
   "metadata": {},
   "outputs": [
    {
     "data": {
      "application/vnd.microsoft.datawrangler.viewer.v0+json": {
       "columns": [
        {
         "name": "index",
         "rawType": "object",
         "type": "string"
        },
        {
         "name": "ND",
         "rawType": "float64",
         "type": "float"
        }
       ],
       "ref": "f5a1c854-3f87-46b4-a3a3-49dcfb904746",
       "rows": [
        [
         "numcol",
         "5555000.0"
        ],
        [
         "yieldpercol",
         "1321.0"
        ],
        [
         "totalprod",
         "475085000.0"
        ],
        [
         "stocks",
         "132898000.0"
        ],
        [
         "priceperlb",
         "16.88"
        ],
        [
         "prodvalue",
         "545642000.0"
        ]
       ],
       "shape": {
        "columns": 1,
        "rows": 6
       }
      },
      "text/plain": [
       "numcol         5.555000e+06\n",
       "yieldpercol    1.321000e+03\n",
       "totalprod      4.750850e+08\n",
       "stocks         1.328980e+08\n",
       "priceperlb     1.688000e+01\n",
       "prodvalue      5.456420e+08\n",
       "Name: ND, dtype: float64"
      ]
     },
     "execution_count": 77,
     "metadata": {},
     "output_type": "execute_result"
    }
   ],
   "source": [
    "# Minimum number of colonies in a state\n",
    "max_prod_state = honey_by_state['totalprod'].idxmax()\n",
    "honey_by_state.loc[max_prod_state]"
   ]
  },
  {
   "cell_type": "code",
   "execution_count": 78,
   "id": "4c6f0a25",
   "metadata": {},
   "outputs": [
    {
     "data": {
      "application/vnd.microsoft.datawrangler.viewer.v0+json": {
       "columns": [
        {
         "name": "index",
         "rawType": "object",
         "type": "string"
        },
        {
         "name": "SC",
         "rawType": "float64",
         "type": "float"
        }
       ],
       "ref": "eb5df31b-00aa-4f2d-b528-09d9ef5016f5",
       "rows": [
        [
         "numcol",
         "16000.0"
        ],
        [
         "yieldpercol",
         "204.0"
        ],
        [
         "totalprod",
         "1030000.0"
        ],
        [
         "stocks",
         "89000.0"
        ],
        [
         "priceperlb",
         "3.9299999999999997"
        ],
        [
         "prodvalue",
         "1338000.0"
        ]
       ],
       "shape": {
        "columns": 1,
        "rows": 6
       }
      },
      "text/plain": [
       "numcol           16000.00\n",
       "yieldpercol        204.00\n",
       "totalprod      1030000.00\n",
       "stocks           89000.00\n",
       "priceperlb           3.93\n",
       "prodvalue      1338000.00\n",
       "Name: SC, dtype: float64"
      ]
     },
     "execution_count": 78,
     "metadata": {},
     "output_type": "execute_result"
    }
   ],
   "source": [
    "# Minimum number of colonies in a state\n",
    "min_prod_state = honey_by_state['totalprod'].idxmin()\n",
    "honey_by_state.loc[min_prod_state]"
   ]
  },
  {
   "cell_type": "code",
   "execution_count": 79,
   "id": "b617e192",
   "metadata": {},
   "outputs": [
    {
     "data": {
      "image/png": "[encoded data removed]",
      "text/plain": [
       "<Figure size 1200x800 with 1 Axes>"
      ]
     },
     "metadata": {},
     "output_type": "display_data"
    }
   ],
   "source": [
    "honey_by_state['totalprod'].plot(kind='barh', fontsize=8, figsize=(12,8))\n",
    "plt.xlabel(\"Total Production\")\n",
    "plt.ylabel(\"State\")\n",
    "plt.title(\"Total Honey Production by State\")\n",
    "plt.grid(linestyle='--',alpha=0.7)\n",
    "plt.show()"
   ]
  },
  {
   "cell_type": "markdown",
   "id": "be10522e",
   "metadata": {},
   "source": [
    "While California has the highest number of bee colony numbering 6100000, North Dakota has the highest be production. South Carolina has the lowest number of colonies (16000) and produce less honey."
   ]
  },
  {
   "cell_type": "markdown",
   "id": "785b7fb6",
   "metadata": {},
   "source": [
    "Let sort the state by number of colonies"
   ]
  },
  {
   "cell_type": "code",
   "execution_count": 80,
   "id": "a88fe00b",
   "metadata": {},
   "outputs": [
    {
     "data": {
      "application/vnd.microsoft.datawrangler.viewer.v0+json": {
       "columns": [
        {
         "name": "state",
         "rawType": "object",
         "type": "string"
        },
        {
         "name": "numcol",
         "rawType": "float64",
         "type": "float"
        },
        {
         "name": "yieldpercol",
         "rawType": "int64",
         "type": "integer"
        },
        {
         "name": "totalprod",
         "rawType": "float64",
         "type": "float"
        },
        {
         "name": "stocks",
         "rawType": "float64",
         "type": "float"
        },
        {
         "name": "priceperlb",
         "rawType": "float64",
         "type": "float"
        },
        {
         "name": "prodvalue",
         "rawType": "float64",
         "type": "float"
        }
       ],
       "ref": "fecae8db-15ad-4c2f-8143-7c3e826696d7",
       "rows": [
        [
         "ND",
         "5555000.0",
         "1321",
         "475085000.0",
         "132898000.0",
         "16.88",
         "545642000.0"
        ],
        [
         "CA",
         "6100000.0",
         "837",
         "347535000.0",
         "96807000.0",
         "17.0",
         "365390000.0"
        ],
        [
         "SD",
         "3544000.0",
         "1137",
         "266141000.0",
         "131494000.0",
         "17.1",
         "290651000.0"
        ],
        [
         "FL",
         "2928000.0",
         "1246",
         "247048000.0",
         "33144000.0",
         "16.51",
         "249229000.0"
        ],
        [
         "MT",
         "2040000.0",
         "1160",
         "156562000.0",
         "47950000.0",
         "17.259999999999998",
         "176903000.0"
        ]
       ],
       "shape": {
        "columns": 6,
        "rows": 5
       }
      },
      "text/html": [
       "<div>\n",
       "<style scoped>\n",
       "    .dataframe tbody tr th:only-of-type {\n",
       "        vertical-align: middle;\n",
       "    }\n",
       "\n",
       "    .dataframe tbody tr th {\n",
       "        vertical-align: top;\n",
       "    }\n",
       "\n",
       "    .dataframe thead th {\n",
       "        text-align: right;\n",
       "    }\n",
       "</style>\n",
       "<table border=\"1\" class=\"dataframe\">\n",
       "  <thead>\n",
       "    <tr style=\"text-align: right;\">\n",
       "      <th></th>\n",
       "      <th>numcol</th>\n",
       "      <th>yieldpercol</th>\n",
       "      <th>totalprod</th>\n",
       "      <th>stocks</th>\n",
       "      <th>priceperlb</th>\n",
       "      <th>prodvalue</th>\n",
       "    </tr>\n",
       "    <tr>\n",
       "      <th>state</th>\n",
       "      <th></th>\n",
       "      <th></th>\n",
       "      <th></th>\n",
       "      <th></th>\n",
       "      <th></th>\n",
       "      <th></th>\n",
       "    </tr>\n",
       "  </thead>\n",
       "  <tbody>\n",
       "    <tr>\n",
       "      <th>ND</th>\n",
       "      <td>5555000.0</td>\n",
       "      <td>1321</td>\n",
       "      <td>475085000.0</td>\n",
       "      <td>132898000.0</td>\n",
       "      <td>16.88</td>\n",
       "      <td>545642000.0</td>\n",
       "    </tr>\n",
       "    <tr>\n",
       "      <th>CA</th>\n",
       "      <td>6100000.0</td>\n",
       "      <td>837</td>\n",
       "      <td>347535000.0</td>\n",
       "      <td>96807000.0</td>\n",
       "      <td>17.00</td>\n",
       "      <td>365390000.0</td>\n",
       "    </tr>\n",
       "    <tr>\n",
       "      <th>SD</th>\n",
       "      <td>3544000.0</td>\n",
       "      <td>1137</td>\n",
       "      <td>266141000.0</td>\n",
       "      <td>131494000.0</td>\n",
       "      <td>17.10</td>\n",
       "      <td>290651000.0</td>\n",
       "    </tr>\n",
       "    <tr>\n",
       "      <th>FL</th>\n",
       "      <td>2928000.0</td>\n",
       "      <td>1246</td>\n",
       "      <td>247048000.0</td>\n",
       "      <td>33144000.0</td>\n",
       "      <td>16.51</td>\n",
       "      <td>249229000.0</td>\n",
       "    </tr>\n",
       "    <tr>\n",
       "      <th>MT</th>\n",
       "      <td>2040000.0</td>\n",
       "      <td>1160</td>\n",
       "      <td>156562000.0</td>\n",
       "      <td>47950000.0</td>\n",
       "      <td>17.26</td>\n",
       "      <td>176903000.0</td>\n",
       "    </tr>\n",
       "  </tbody>\n",
       "</table>\n",
       "</div>"
      ],
      "text/plain": [
       "          numcol  yieldpercol    totalprod       stocks  priceperlb  \\\n",
       "state                                                                 \n",
       "ND     5555000.0         1321  475085000.0  132898000.0       16.88   \n",
       "CA     6100000.0          837  347535000.0   96807000.0       17.00   \n",
       "SD     3544000.0         1137  266141000.0  131494000.0       17.10   \n",
       "FL     2928000.0         1246  247048000.0   33144000.0       16.51   \n",
       "MT     2040000.0         1160  156562000.0   47950000.0       17.26   \n",
       "\n",
       "         prodvalue  \n",
       "state               \n",
       "ND     545642000.0  \n",
       "CA     365390000.0  \n",
       "SD     290651000.0  \n",
       "FL     249229000.0  \n",
       "MT     176903000.0  "
      ]
     },
     "execution_count": 80,
     "metadata": {},
     "output_type": "execute_result"
    }
   ],
   "source": [
    "sorted_honey_by_state=honey_by_state.sort_values(by='totalprod', ascending=False)\n",
    "\n",
    "# The highest 5 honey prodcution state\n",
    "sorted_honey_by_state.head()"
   ]
  },
  {
   "cell_type": "code",
   "execution_count": 81,
   "id": "34cfc062",
   "metadata": {},
   "outputs": [
    {
     "data": {
      "application/vnd.microsoft.datawrangler.viewer.v0+json": {
       "columns": [
        {
         "name": "state",
         "rawType": "object",
         "type": "string"
        },
        {
         "name": "numcol",
         "rawType": "float64",
         "type": "float"
        },
        {
         "name": "yieldpercol",
         "rawType": "int64",
         "type": "integer"
        },
        {
         "name": "totalprod",
         "rawType": "float64",
         "type": "float"
        },
        {
         "name": "stocks",
         "rawType": "float64",
         "type": "float"
        },
        {
         "name": "priceperlb",
         "rawType": "float64",
         "type": "float"
        },
        {
         "name": "prodvalue",
         "rawType": "float64",
         "type": "float"
        }
       ],
       "ref": "b5774b0e-c9f2-4e43-b7c8-4e76041f8b1b",
       "rows": [
        [
         "ME",
         "126000.0",
         "466",
         "3701000.0",
         "1445000.0",
         "21.48",
         "5067000.0"
        ],
        [
         "KY",
         "66000.0",
         "782",
         "3445000.0",
         "704000.0",
         "31.24",
         "7199000.0"
        ],
        [
         "MD",
         "28000.0",
         "270",
         "1266000.0",
         "291000.0",
         "9.37",
         "1833000.0"
        ],
        [
         "OK",
         "27000.0",
         "278",
         "1207000.0",
         "401000.0",
         "8.74",
         "1711000.0"
        ],
        [
         "SC",
         "16000.0",
         "204",
         "1030000.0",
         "89000.0",
         "3.9299999999999997",
         "1338000.0"
        ]
       ],
       "shape": {
        "columns": 6,
        "rows": 5
       }
      },
      "text/html": [
       "<div>\n",
       "<style scoped>\n",
       "    .dataframe tbody tr th:only-of-type {\n",
       "        vertical-align: middle;\n",
       "    }\n",
       "\n",
       "    .dataframe tbody tr th {\n",
       "        vertical-align: top;\n",
       "    }\n",
       "\n",
       "    .dataframe thead th {\n",
       "        text-align: right;\n",
       "    }\n",
       "</style>\n",
       "<table border=\"1\" class=\"dataframe\">\n",
       "  <thead>\n",
       "    <tr style=\"text-align: right;\">\n",
       "      <th></th>\n",
       "      <th>numcol</th>\n",
       "      <th>yieldpercol</th>\n",
       "      <th>totalprod</th>\n",
       "      <th>stocks</th>\n",
       "      <th>priceperlb</th>\n",
       "      <th>prodvalue</th>\n",
       "    </tr>\n",
       "    <tr>\n",
       "      <th>state</th>\n",
       "      <th></th>\n",
       "      <th></th>\n",
       "      <th></th>\n",
       "      <th></th>\n",
       "      <th></th>\n",
       "      <th></th>\n",
       "    </tr>\n",
       "  </thead>\n",
       "  <tbody>\n",
       "    <tr>\n",
       "      <th>ME</th>\n",
       "      <td>126000.0</td>\n",
       "      <td>466</td>\n",
       "      <td>3701000.0</td>\n",
       "      <td>1445000.0</td>\n",
       "      <td>21.48</td>\n",
       "      <td>5067000.0</td>\n",
       "    </tr>\n",
       "    <tr>\n",
       "      <th>KY</th>\n",
       "      <td>66000.0</td>\n",
       "      <td>782</td>\n",
       "      <td>3445000.0</td>\n",
       "      <td>704000.0</td>\n",
       "      <td>31.24</td>\n",
       "      <td>7199000.0</td>\n",
       "    </tr>\n",
       "    <tr>\n",
       "      <th>MD</th>\n",
       "      <td>28000.0</td>\n",
       "      <td>270</td>\n",
       "      <td>1266000.0</td>\n",
       "      <td>291000.0</td>\n",
       "      <td>9.37</td>\n",
       "      <td>1833000.0</td>\n",
       "    </tr>\n",
       "    <tr>\n",
       "      <th>OK</th>\n",
       "      <td>27000.0</td>\n",
       "      <td>278</td>\n",
       "      <td>1207000.0</td>\n",
       "      <td>401000.0</td>\n",
       "      <td>8.74</td>\n",
       "      <td>1711000.0</td>\n",
       "    </tr>\n",
       "    <tr>\n",
       "      <th>SC</th>\n",
       "      <td>16000.0</td>\n",
       "      <td>204</td>\n",
       "      <td>1030000.0</td>\n",
       "      <td>89000.0</td>\n",
       "      <td>3.93</td>\n",
       "      <td>1338000.0</td>\n",
       "    </tr>\n",
       "  </tbody>\n",
       "</table>\n",
       "</div>"
      ],
      "text/plain": [
       "         numcol  yieldpercol  totalprod     stocks  priceperlb  prodvalue\n",
       "state                                                                    \n",
       "ME     126000.0          466  3701000.0  1445000.0       21.48  5067000.0\n",
       "KY      66000.0          782  3445000.0   704000.0       31.24  7199000.0\n",
       "MD      28000.0          270  1266000.0   291000.0        9.37  1833000.0\n",
       "OK      27000.0          278  1207000.0   401000.0        8.74  1711000.0\n",
       "SC      16000.0          204  1030000.0    89000.0        3.93  1338000.0"
      ]
     },
     "execution_count": 81,
     "metadata": {},
     "output_type": "execute_result"
    }
   ],
   "source": [
    "# The least 5 honey production state \n",
    "sorted_honey_by_state.tail()"
   ]
  },
  {
   "cell_type": "markdown",
   "id": "2c01f99a",
   "metadata": {},
   "source": [
    "Let explore the correlation between the columns in the group by the state"
   ]
  },
  {
   "cell_type": "code",
   "execution_count": 82,
   "id": "fd3b20d2",
   "metadata": {},
   "outputs": [
    {
     "data": {
      "application/vnd.microsoft.datawrangler.viewer.v0+json": {
       "columns": [
        {
         "name": "index",
         "rawType": "object",
         "type": "string"
        },
        {
         "name": "numcol",
         "rawType": "float64",
         "type": "float"
        },
        {
         "name": "yieldpercol",
         "rawType": "float64",
         "type": "float"
        },
        {
         "name": "totalprod",
         "rawType": "float64",
         "type": "float"
        },
        {
         "name": "stocks",
         "rawType": "float64",
         "type": "float"
        },
        {
         "name": "priceperlb",
         "rawType": "float64",
         "type": "float"
        },
        {
         "name": "prodvalue",
         "rawType": "float64",
         "type": "float"
        }
       ],
       "ref": "14ba4cb5-f3a4-40e7-a032-506be35582cb",
       "rows": [
        [
         "numcol",
         "1.0",
         "0.349",
         "0.977",
         "0.915",
         "-0.249",
         "0.97"
        ],
        [
         "yieldpercol",
         "0.349",
         "1.0",
         "0.42",
         "0.384",
         "0.097",
         "0.421"
        ],
        [
         "totalprod",
         "0.977",
         "0.42",
         "1.0",
         "0.926",
         "-0.249",
         "0.998"
        ],
        [
         "stocks",
         "0.915",
         "0.384",
         "0.926",
         "1.0",
         "-0.23",
         "0.932"
        ],
        [
         "priceperlb",
         "-0.249",
         "0.097",
         "-0.249",
         "-0.23",
         "1.0",
         "-0.231"
        ],
        [
         "prodvalue",
         "0.97",
         "0.421",
         "0.998",
         "0.932",
         "-0.231",
         "1.0"
        ]
       ],
       "shape": {
        "columns": 6,
        "rows": 6
       }
      },
      "text/html": [
       "<div>\n",
       "<style scoped>\n",
       "    .dataframe tbody tr th:only-of-type {\n",
       "        vertical-align: middle;\n",
       "    }\n",
       "\n",
       "    .dataframe tbody tr th {\n",
       "        vertical-align: top;\n",
       "    }\n",
       "\n",
       "    .dataframe thead th {\n",
       "        text-align: right;\n",
       "    }\n",
       "</style>\n",
       "<table border=\"1\" class=\"dataframe\">\n",
       "  <thead>\n",
       "    <tr style=\"text-align: right;\">\n",
       "      <th></th>\n",
       "      <th>numcol</th>\n",
       "      <th>yieldpercol</th>\n",
       "      <th>totalprod</th>\n",
       "      <th>stocks</th>\n",
       "      <th>priceperlb</th>\n",
       "      <th>prodvalue</th>\n",
       "    </tr>\n",
       "  </thead>\n",
       "  <tbody>\n",
       "    <tr>\n",
       "      <th>numcol</th>\n",
       "      <td>1.000</td>\n",
       "      <td>0.349</td>\n",
       "      <td>0.977</td>\n",
       "      <td>0.915</td>\n",
       "      <td>-0.249</td>\n",
       "      <td>0.970</td>\n",
       "    </tr>\n",
       "    <tr>\n",
       "      <th>yieldpercol</th>\n",
       "      <td>0.349</td>\n",
       "      <td>1.000</td>\n",
       "      <td>0.420</td>\n",
       "      <td>0.384</td>\n",
       "      <td>0.097</td>\n",
       "      <td>0.421</td>\n",
       "    </tr>\n",
       "    <tr>\n",
       "      <th>totalprod</th>\n",
       "      <td>0.977</td>\n",
       "      <td>0.420</td>\n",
       "      <td>1.000</td>\n",
       "      <td>0.926</td>\n",
       "      <td>-0.249</td>\n",
       "      <td>0.998</td>\n",
       "    </tr>\n",
       "    <tr>\n",
       "      <th>stocks</th>\n",
       "      <td>0.915</td>\n",
       "      <td>0.384</td>\n",
       "      <td>0.926</td>\n",
       "      <td>1.000</td>\n",
       "      <td>-0.230</td>\n",
       "      <td>0.932</td>\n",
       "    </tr>\n",
       "    <tr>\n",
       "      <th>priceperlb</th>\n",
       "      <td>-0.249</td>\n",
       "      <td>0.097</td>\n",
       "      <td>-0.249</td>\n",
       "      <td>-0.230</td>\n",
       "      <td>1.000</td>\n",
       "      <td>-0.231</td>\n",
       "    </tr>\n",
       "    <tr>\n",
       "      <th>prodvalue</th>\n",
       "      <td>0.970</td>\n",
       "      <td>0.421</td>\n",
       "      <td>0.998</td>\n",
       "      <td>0.932</td>\n",
       "      <td>-0.231</td>\n",
       "      <td>1.000</td>\n",
       "    </tr>\n",
       "  </tbody>\n",
       "</table>\n",
       "</div>"
      ],
      "text/plain": [
       "             numcol  yieldpercol  totalprod  stocks  priceperlb  prodvalue\n",
       "numcol        1.000        0.349      0.977   0.915      -0.249      0.970\n",
       "yieldpercol   0.349        1.000      0.420   0.384       0.097      0.421\n",
       "totalprod     0.977        0.420      1.000   0.926      -0.249      0.998\n",
       "stocks        0.915        0.384      0.926   1.000      -0.230      0.932\n",
       "priceperlb   -0.249        0.097     -0.249  -0.230       1.000     -0.231\n",
       "prodvalue     0.970        0.421      0.998   0.932      -0.231      1.000"
      ]
     },
     "execution_count": 82,
     "metadata": {},
     "output_type": "execute_result"
    }
   ],
   "source": [
    "honey_by_state_corr = honey_by_state.corr()\n",
    "round(honey_by_state_corr,3)"
   ]
  },
  {
   "cell_type": "markdown",
   "id": "c957c300",
   "metadata": {},
   "source": [
    "Let visualize it using heatmap"
   ]
  },
  {
   "cell_type": "code",
   "execution_count": 83,
   "id": "d2810371",
   "metadata": {},
   "outputs": [
    {
     "data": {
      "image/png": "[encoded data removed]",
      "text/plain": [
       "<Figure size 640x480 with 2 Axes>"
      ]
     },
     "metadata": {},
     "output_type": "display_data"
    }
   ],
   "source": [
    "sns.heatmap(honey_by_state_corr, annot=True, cmap='coolwarm', fmt='.2f', linewidths=0.5, linecolor='black')\n",
    "plt.title(\"Heatmap of Honey Production by State\")\n",
    "plt.show()"
   ]
  },
  {
   "cell_type": "markdown",
   "id": "3b9b8b94",
   "metadata": {},
   "source": [
    "As seen from the heatmap, there is strong correlation between the *number of column*, *total production*, *production value* and *stock* while the first are expected, however having alot of honey in stock may not necessarily depend on them. Stock might likely depend on the honey production if there is high production and low sale."
   ]
  }
 ],
 "metadata": {
  "kernelspec": {
   "display_name": "Python 3",
   "language": "python",
   "name": "python3"
  },
  "language_info": {
   "codemirror_mode": {
    "name": "ipython",
    "version": 3
   },
   "file_extension": ".py",
   "mimetype": "text/x-python",
   "name": "python",
   "nbconvert_exporter": "python",
   "pygments_lexer": "ipython3",
   "version": "3.13.5"
  }
 },
 "nbformat": 4,
 "nbformat_minor": 5
}
