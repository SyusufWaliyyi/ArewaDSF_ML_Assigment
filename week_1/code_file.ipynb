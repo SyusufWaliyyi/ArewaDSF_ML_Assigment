{
 "cells": [
  {
   "cell_type": "markdown",
   "id": "4df0e51f",
   "metadata": {},
   "source": [
    "## SHAMSUDDEEN YUSUF\n",
    "## ASSIGNMENT   1\n",
    "## ADS/P7/24/035"
   ]
  },
  {
   "cell_type": "code",
   "execution_count": 79,
   "id": "ce212314",
   "metadata": {},
   "outputs": [],
   "source": [
    "# importing the necessary libraries\n",
    "import pandas as pd \n",
    "import matplotlib.pyplot as plt"
   ]
  },
  {
   "cell_type": "code",
   "execution_count": 80,
   "id": "0a6b17e9",
   "metadata": {},
   "outputs": [
    {
     "data": {
      "application/vnd.microsoft.datawrangler.viewer.v0+json": {
       "columns": [
        {
         "name": "index",
         "rawType": "int64",
         "type": "integer"
        },
        {
         "name": "birth_month",
         "rawType": "object",
         "type": "string"
        },
        {
         "name": "state",
         "rawType": "object",
         "type": "unknown"
        },
        {
         "name": "pet",
         "rawType": "object",
         "type": "string"
        }
       ],
       "ref": "df5f18af-5476-4b6e-8f69-5e0c9d271d6c",
       "rows": [
        [
         "0",
         "January",
         null,
         "Cats"
        ],
        [
         "1",
         "JAN",
         "CA",
         "Cats"
        ],
        [
         "2",
         "Sept",
         "Hawaii",
         "Dog"
        ],
        [
         "3",
         "january",
         "AK",
         "Dog"
        ],
        [
         "4",
         "July",
         "RI",
         "Cats"
        ],
        [
         "5",
         "September",
         "California",
         "Cats"
        ],
        [
         "6",
         "April",
         "CA",
         "Dog"
        ],
        [
         "7",
         "January",
         "California",
         "Cats"
        ],
        [
         "8",
         "November",
         "FL",
         "Dog"
        ],
        [
         "9",
         "December",
         "Florida",
         "Cats"
        ]
       ],
       "shape": {
        "columns": 3,
        "rows": 10
       }
      },
      "text/html": [
       "<div>\n",
       "<style scoped>\n",
       "    .dataframe tbody tr th:only-of-type {\n",
       "        vertical-align: middle;\n",
       "    }\n",
       "\n",
       "    .dataframe tbody tr th {\n",
       "        vertical-align: top;\n",
       "    }\n",
       "\n",
       "    .dataframe thead th {\n",
       "        text-align: right;\n",
       "    }\n",
       "</style>\n",
       "<table border=\"1\" class=\"dataframe\">\n",
       "  <thead>\n",
       "    <tr style=\"text-align: right;\">\n",
       "      <th></th>\n",
       "      <th>birth_month</th>\n",
       "      <th>state</th>\n",
       "      <th>pet</th>\n",
       "    </tr>\n",
       "  </thead>\n",
       "  <tbody>\n",
       "    <tr>\n",
       "      <th>0</th>\n",
       "      <td>January</td>\n",
       "      <td>NaN</td>\n",
       "      <td>Cats</td>\n",
       "    </tr>\n",
       "    <tr>\n",
       "      <th>1</th>\n",
       "      <td>JAN</td>\n",
       "      <td>CA</td>\n",
       "      <td>Cats</td>\n",
       "    </tr>\n",
       "    <tr>\n",
       "      <th>2</th>\n",
       "      <td>Sept</td>\n",
       "      <td>Hawaii</td>\n",
       "      <td>Dog</td>\n",
       "    </tr>\n",
       "    <tr>\n",
       "      <th>3</th>\n",
       "      <td>january</td>\n",
       "      <td>AK</td>\n",
       "      <td>Dog</td>\n",
       "    </tr>\n",
       "    <tr>\n",
       "      <th>4</th>\n",
       "      <td>July</td>\n",
       "      <td>RI</td>\n",
       "      <td>Cats</td>\n",
       "    </tr>\n",
       "    <tr>\n",
       "      <th>5</th>\n",
       "      <td>September</td>\n",
       "      <td>California</td>\n",
       "      <td>Cats</td>\n",
       "    </tr>\n",
       "    <tr>\n",
       "      <th>6</th>\n",
       "      <td>April</td>\n",
       "      <td>CA</td>\n",
       "      <td>Dog</td>\n",
       "    </tr>\n",
       "    <tr>\n",
       "      <th>7</th>\n",
       "      <td>January</td>\n",
       "      <td>California</td>\n",
       "      <td>Cats</td>\n",
       "    </tr>\n",
       "    <tr>\n",
       "      <th>8</th>\n",
       "      <td>November</td>\n",
       "      <td>FL</td>\n",
       "      <td>Dog</td>\n",
       "    </tr>\n",
       "    <tr>\n",
       "      <th>9</th>\n",
       "      <td>December</td>\n",
       "      <td>Florida</td>\n",
       "      <td>Cats</td>\n",
       "    </tr>\n",
       "  </tbody>\n",
       "</table>\n",
       "</div>"
      ],
      "text/plain": [
       "  birth_month       state   pet\n",
       "0     January         NaN  Cats\n",
       "1         JAN          CA  Cats\n",
       "2        Sept      Hawaii   Dog\n",
       "3     january          AK   Dog\n",
       "4        July          RI  Cats\n",
       "5   September  California  Cats\n",
       "6       April          CA   Dog\n",
       "7     January  California  Cats\n",
       "8    November          FL   Dog\n",
       "9    December     Florida  Cats"
      ]
     },
     "execution_count": 80,
     "metadata": {},
     "output_type": "execute_result"
    }
   ],
   "source": [
    "# reading the CSV file into a DataFrame\n",
    "pets_df = pd.read_csv('form.csv')\n",
    "pets_df"
   ]
  },
  {
   "cell_type": "markdown",
   "id": "982d4789",
   "metadata": {},
   "source": [
    "### Identified problem from the pets dataFrame\n",
    "\n",
    "birth_month column\n",
    "\n",
    "- Using initials for some months e.g Jan and sept\n",
    "- Case inconsistency in January, january\n",
    "\n",
    "state column\n",
    "- Missing value in the first row NaN\n",
    "- Abbreviated values (CA, FL, AK, etc.)\n",
    "- Full names such as California, Florida\n",
    "\n",
    "pet column\n",
    "- Pluralization: Dog instead of Dogs."
   ]
  },
  {
   "cell_type": "code",
   "execution_count": 81,
   "id": "dd2a16c6",
   "metadata": {},
   "outputs": [
    {
     "data": {
      "application/vnd.microsoft.datawrangler.viewer.v0+json": {
       "columns": [
        {
         "name": "index",
         "rawType": "int64",
         "type": "integer"
        },
        {
         "name": "birth_month",
         "rawType": "object",
         "type": "string"
        },
        {
         "name": "state",
         "rawType": "object",
         "type": "unknown"
        },
        {
         "name": "pet",
         "rawType": "object",
         "type": "string"
        }
       ],
       "ref": "63bab03d-0ddb-43bc-95ed-a1ac7edb4664",
       "rows": [
        [
         "0",
         "January",
         null,
         "Cats"
        ],
        [
         "1",
         "JAN",
         "CA",
         "Cats"
        ],
        [
         "2",
         "Sept",
         "Hawaii",
         "Dog"
        ],
        [
         "3",
         "january",
         "AK",
         "Dog"
        ],
        [
         "4",
         "July",
         "RI",
         "Cats"
        ],
        [
         "5",
         "September",
         "California",
         "Cats"
        ],
        [
         "6",
         "April",
         "CA",
         "Dog"
        ],
        [
         "7",
         "January",
         "California",
         "Cats"
        ],
        [
         "8",
         "November",
         "FL",
         "Dog"
        ],
        [
         "9",
         "December",
         "Florida",
         "Cats"
        ]
       ],
       "shape": {
        "columns": 3,
        "rows": 10
       }
      },
      "text/html": [
       "<div>\n",
       "<style scoped>\n",
       "    .dataframe tbody tr th:only-of-type {\n",
       "        vertical-align: middle;\n",
       "    }\n",
       "\n",
       "    .dataframe tbody tr th {\n",
       "        vertical-align: top;\n",
       "    }\n",
       "\n",
       "    .dataframe thead th {\n",
       "        text-align: right;\n",
       "    }\n",
       "</style>\n",
       "<table border=\"1\" class=\"dataframe\">\n",
       "  <thead>\n",
       "    <tr style=\"text-align: right;\">\n",
       "      <th></th>\n",
       "      <th>birth_month</th>\n",
       "      <th>state</th>\n",
       "      <th>pet</th>\n",
       "    </tr>\n",
       "  </thead>\n",
       "  <tbody>\n",
       "    <tr>\n",
       "      <th>0</th>\n",
       "      <td>January</td>\n",
       "      <td>NaN</td>\n",
       "      <td>Cats</td>\n",
       "    </tr>\n",
       "    <tr>\n",
       "      <th>1</th>\n",
       "      <td>JAN</td>\n",
       "      <td>CA</td>\n",
       "      <td>Cats</td>\n",
       "    </tr>\n",
       "    <tr>\n",
       "      <th>2</th>\n",
       "      <td>Sept</td>\n",
       "      <td>Hawaii</td>\n",
       "      <td>Dog</td>\n",
       "    </tr>\n",
       "    <tr>\n",
       "      <th>3</th>\n",
       "      <td>january</td>\n",
       "      <td>AK</td>\n",
       "      <td>Dog</td>\n",
       "    </tr>\n",
       "    <tr>\n",
       "      <th>4</th>\n",
       "      <td>July</td>\n",
       "      <td>RI</td>\n",
       "      <td>Cats</td>\n",
       "    </tr>\n",
       "    <tr>\n",
       "      <th>5</th>\n",
       "      <td>September</td>\n",
       "      <td>California</td>\n",
       "      <td>Cats</td>\n",
       "    </tr>\n",
       "    <tr>\n",
       "      <th>6</th>\n",
       "      <td>April</td>\n",
       "      <td>CA</td>\n",
       "      <td>Dog</td>\n",
       "    </tr>\n",
       "    <tr>\n",
       "      <th>7</th>\n",
       "      <td>January</td>\n",
       "      <td>California</td>\n",
       "      <td>Cats</td>\n",
       "    </tr>\n",
       "    <tr>\n",
       "      <th>8</th>\n",
       "      <td>November</td>\n",
       "      <td>FL</td>\n",
       "      <td>Dog</td>\n",
       "    </tr>\n",
       "    <tr>\n",
       "      <th>9</th>\n",
       "      <td>December</td>\n",
       "      <td>Florida</td>\n",
       "      <td>Cats</td>\n",
       "    </tr>\n",
       "  </tbody>\n",
       "</table>\n",
       "</div>"
      ],
      "text/plain": [
       "  birth_month       state   pet\n",
       "0     January         NaN  Cats\n",
       "1         JAN          CA  Cats\n",
       "2        Sept      Hawaii   Dog\n",
       "3     january          AK   Dog\n",
       "4        July          RI  Cats\n",
       "5   September  California  Cats\n",
       "6       April          CA   Dog\n",
       "7     January  California  Cats\n",
       "8    November          FL   Dog\n",
       "9    December     Florida  Cats"
      ]
     },
     "execution_count": 81,
     "metadata": {},
     "output_type": "execute_result"
    }
   ],
   "source": [
    "pets_df"
   ]
  },
  {
   "cell_type": "code",
   "execution_count": 82,
   "id": "53b75b79",
   "metadata": {},
   "outputs": [
    {
     "name": "stdout",
     "output_type": "stream",
     "text": [
      "<class 'pandas.core.frame.DataFrame'>\n",
      "RangeIndex: 10 entries, 0 to 9\n",
      "Data columns (total 3 columns):\n",
      " #   Column       Non-Null Count  Dtype \n",
      "---  ------       --------------  ----- \n",
      " 0   birth_month  10 non-null     object\n",
      " 1   state        9 non-null      object\n",
      " 2   pet          10 non-null     object\n",
      "dtypes: object(3)\n",
      "memory usage: 372.0+ bytes\n"
     ]
    }
   ],
   "source": [
    "pets_df.info()"
   ]
  },
  {
   "cell_type": "code",
   "execution_count": 83,
   "id": "da17c3f8",
   "metadata": {},
   "outputs": [
    {
     "data": {
      "application/vnd.microsoft.datawrangler.viewer.v0+json": {
       "columns": [
        {
         "name": "index",
         "rawType": "object",
         "type": "string"
        },
        {
         "name": "birth_month",
         "rawType": "object",
         "type": "unknown"
        },
        {
         "name": "state",
         "rawType": "object",
         "type": "unknown"
        },
        {
         "name": "pet",
         "rawType": "object",
         "type": "unknown"
        }
       ],
       "ref": "382dedbd-136c-407f-848f-91f4ede77c7c",
       "rows": [
        [
         "count",
         "10",
         "9",
         "10"
        ],
        [
         "unique",
         "9",
         "7",
         "2"
        ],
        [
         "top",
         "January",
         "CA",
         "Cats"
        ],
        [
         "freq",
         "2",
         "2",
         "6"
        ]
       ],
       "shape": {
        "columns": 3,
        "rows": 4
       }
      },
      "text/html": [
       "<div>\n",
       "<style scoped>\n",
       "    .dataframe tbody tr th:only-of-type {\n",
       "        vertical-align: middle;\n",
       "    }\n",
       "\n",
       "    .dataframe tbody tr th {\n",
       "        vertical-align: top;\n",
       "    }\n",
       "\n",
       "    .dataframe thead th {\n",
       "        text-align: right;\n",
       "    }\n",
       "</style>\n",
       "<table border=\"1\" class=\"dataframe\">\n",
       "  <thead>\n",
       "    <tr style=\"text-align: right;\">\n",
       "      <th></th>\n",
       "      <th>birth_month</th>\n",
       "      <th>state</th>\n",
       "      <th>pet</th>\n",
       "    </tr>\n",
       "  </thead>\n",
       "  <tbody>\n",
       "    <tr>\n",
       "      <th>count</th>\n",
       "      <td>10</td>\n",
       "      <td>9</td>\n",
       "      <td>10</td>\n",
       "    </tr>\n",
       "    <tr>\n",
       "      <th>unique</th>\n",
       "      <td>9</td>\n",
       "      <td>7</td>\n",
       "      <td>2</td>\n",
       "    </tr>\n",
       "    <tr>\n",
       "      <th>top</th>\n",
       "      <td>January</td>\n",
       "      <td>CA</td>\n",
       "      <td>Cats</td>\n",
       "    </tr>\n",
       "    <tr>\n",
       "      <th>freq</th>\n",
       "      <td>2</td>\n",
       "      <td>2</td>\n",
       "      <td>6</td>\n",
       "    </tr>\n",
       "  </tbody>\n",
       "</table>\n",
       "</div>"
      ],
      "text/plain": [
       "       birth_month state   pet\n",
       "count           10     9    10\n",
       "unique           9     7     2\n",
       "top        January    CA  Cats\n",
       "freq             2     2     6"
      ]
     },
     "execution_count": 83,
     "metadata": {},
     "output_type": "execute_result"
    }
   ],
   "source": [
    "pets_df.describe()"
   ]
  },
  {
   "cell_type": "markdown",
   "id": "b1278ca2",
   "metadata": {},
   "source": [
    "__Data cleaning__ "
   ]
  },
  {
   "cell_type": "markdown",
   "id": "b8082d87",
   "metadata": {},
   "source": [
    "### fixing the birth_month column"
   ]
  },
  {
   "cell_type": "code",
   "execution_count": 84,
   "id": "155223c3",
   "metadata": {},
   "outputs": [
    {
     "data": {
      "application/vnd.microsoft.datawrangler.viewer.v0+json": {
       "columns": [
        {
         "name": "index",
         "rawType": "int64",
         "type": "integer"
        },
        {
         "name": "birth_month",
         "rawType": "object",
         "type": "string"
        },
        {
         "name": "state",
         "rawType": "object",
         "type": "unknown"
        },
        {
         "name": "pet",
         "rawType": "object",
         "type": "string"
        }
       ],
       "ref": "726baa04-daba-4859-b098-245aa8ada30d",
       "rows": [
        [
         "0",
         "January",
         null,
         "Cats"
        ],
        [
         "1",
         "January",
         "CA",
         "Cats"
        ],
        [
         "2",
         "Sept",
         "Hawaii",
         "Dog"
        ],
        [
         "3",
         "January",
         "AK",
         "Dog"
        ],
        [
         "4",
         "July",
         "RI",
         "Cats"
        ],
        [
         "5",
         "September",
         "California",
         "Cats"
        ],
        [
         "6",
         "April",
         "CA",
         "Dog"
        ],
        [
         "7",
         "January",
         "California",
         "Cats"
        ],
        [
         "8",
         "November",
         "FL",
         "Dog"
        ],
        [
         "9",
         "December",
         "Florida",
         "Cats"
        ]
       ],
       "shape": {
        "columns": 3,
        "rows": 10
       }
      },
      "text/html": [
       "<div>\n",
       "<style scoped>\n",
       "    .dataframe tbody tr th:only-of-type {\n",
       "        vertical-align: middle;\n",
       "    }\n",
       "\n",
       "    .dataframe tbody tr th {\n",
       "        vertical-align: top;\n",
       "    }\n",
       "\n",
       "    .dataframe thead th {\n",
       "        text-align: right;\n",
       "    }\n",
       "</style>\n",
       "<table border=\"1\" class=\"dataframe\">\n",
       "  <thead>\n",
       "    <tr style=\"text-align: right;\">\n",
       "      <th></th>\n",
       "      <th>birth_month</th>\n",
       "      <th>state</th>\n",
       "      <th>pet</th>\n",
       "    </tr>\n",
       "  </thead>\n",
       "  <tbody>\n",
       "    <tr>\n",
       "      <th>0</th>\n",
       "      <td>January</td>\n",
       "      <td>NaN</td>\n",
       "      <td>Cats</td>\n",
       "    </tr>\n",
       "    <tr>\n",
       "      <th>1</th>\n",
       "      <td>January</td>\n",
       "      <td>CA</td>\n",
       "      <td>Cats</td>\n",
       "    </tr>\n",
       "    <tr>\n",
       "      <th>2</th>\n",
       "      <td>Sept</td>\n",
       "      <td>Hawaii</td>\n",
       "      <td>Dog</td>\n",
       "    </tr>\n",
       "    <tr>\n",
       "      <th>3</th>\n",
       "      <td>January</td>\n",
       "      <td>AK</td>\n",
       "      <td>Dog</td>\n",
       "    </tr>\n",
       "    <tr>\n",
       "      <th>4</th>\n",
       "      <td>July</td>\n",
       "      <td>RI</td>\n",
       "      <td>Cats</td>\n",
       "    </tr>\n",
       "    <tr>\n",
       "      <th>5</th>\n",
       "      <td>September</td>\n",
       "      <td>California</td>\n",
       "      <td>Cats</td>\n",
       "    </tr>\n",
       "    <tr>\n",
       "      <th>6</th>\n",
       "      <td>April</td>\n",
       "      <td>CA</td>\n",
       "      <td>Dog</td>\n",
       "    </tr>\n",
       "    <tr>\n",
       "      <th>7</th>\n",
       "      <td>January</td>\n",
       "      <td>California</td>\n",
       "      <td>Cats</td>\n",
       "    </tr>\n",
       "    <tr>\n",
       "      <th>8</th>\n",
       "      <td>November</td>\n",
       "      <td>FL</td>\n",
       "      <td>Dog</td>\n",
       "    </tr>\n",
       "    <tr>\n",
       "      <th>9</th>\n",
       "      <td>December</td>\n",
       "      <td>Florida</td>\n",
       "      <td>Cats</td>\n",
       "    </tr>\n",
       "  </tbody>\n",
       "</table>\n",
       "</div>"
      ],
      "text/plain": [
       "  birth_month       state   pet\n",
       "0     January         NaN  Cats\n",
       "1     January          CA  Cats\n",
       "2        Sept      Hawaii   Dog\n",
       "3     January          AK   Dog\n",
       "4        July          RI  Cats\n",
       "5   September  California  Cats\n",
       "6       April          CA   Dog\n",
       "7     January  California  Cats\n",
       "8    November          FL   Dog\n",
       "9    December     Florida  Cats"
      ]
     },
     "execution_count": 84,
     "metadata": {},
     "output_type": "execute_result"
    }
   ],
   "source": [
    "# Since the 'birth_month' column is in lowercase, we will capitalize the first letter of each month\n",
    "pets_df['birth_month'] = pets_df['birth_month'].str.capitalize()\n",
    "\n",
    "# Using dictionary to convert Jan to January, Sept to September, etc.\n",
    "month_mapping = {\n",
    "    'Jan': 'January',\n",
    "    'Sep': 'September'\n",
    "}\n",
    "\n",
    "# Replacing the abbreviated month names with full names\n",
    "pets_df['birth_month'] = pets_df['birth_month'].replace(month_mapping)\n",
    "\n",
    "# Displaying the updated DataFrame\n",
    "pets_df"
   ]
  },
  {
   "cell_type": "code",
   "execution_count": 85,
   "id": "b7c041ff",
   "metadata": {},
   "outputs": [
    {
     "data": {
      "application/vnd.microsoft.datawrangler.viewer.v0+json": {
       "columns": [
        {
         "name": "index",
         "rawType": "int64",
         "type": "integer"
        },
        {
         "name": "birth_month",
         "rawType": "object",
         "type": "string"
        },
        {
         "name": "state",
         "rawType": "object",
         "type": "unknown"
        },
        {
         "name": "pet",
         "rawType": "object",
         "type": "string"
        }
       ],
       "ref": "2cf3c6ca-334c-49b7-960c-b00b95df0018",
       "rows": [
        [
         "0",
         "January",
         null,
         "Cats"
        ],
        [
         "1",
         "January",
         "CA",
         "Cats"
        ],
        [
         "2",
         "Sept",
         "HI",
         "Dog"
        ],
        [
         "3",
         "January",
         "AK",
         "Dog"
        ],
        [
         "4",
         "July",
         "RI",
         "Cats"
        ],
        [
         "5",
         "September",
         "CA",
         "Cats"
        ],
        [
         "6",
         "April",
         "CA",
         "Dog"
        ],
        [
         "7",
         "January",
         "CA",
         "Cats"
        ],
        [
         "8",
         "November",
         "FL",
         "Dog"
        ],
        [
         "9",
         "December",
         "FL",
         "Cats"
        ]
       ],
       "shape": {
        "columns": 3,
        "rows": 10
       }
      },
      "text/html": [
       "<div>\n",
       "<style scoped>\n",
       "    .dataframe tbody tr th:only-of-type {\n",
       "        vertical-align: middle;\n",
       "    }\n",
       "\n",
       "    .dataframe tbody tr th {\n",
       "        vertical-align: top;\n",
       "    }\n",
       "\n",
       "    .dataframe thead th {\n",
       "        text-align: right;\n",
       "    }\n",
       "</style>\n",
       "<table border=\"1\" class=\"dataframe\">\n",
       "  <thead>\n",
       "    <tr style=\"text-align: right;\">\n",
       "      <th></th>\n",
       "      <th>birth_month</th>\n",
       "      <th>state</th>\n",
       "      <th>pet</th>\n",
       "    </tr>\n",
       "  </thead>\n",
       "  <tbody>\n",
       "    <tr>\n",
       "      <th>0</th>\n",
       "      <td>January</td>\n",
       "      <td>NaN</td>\n",
       "      <td>Cats</td>\n",
       "    </tr>\n",
       "    <tr>\n",
       "      <th>1</th>\n",
       "      <td>January</td>\n",
       "      <td>CA</td>\n",
       "      <td>Cats</td>\n",
       "    </tr>\n",
       "    <tr>\n",
       "      <th>2</th>\n",
       "      <td>Sept</td>\n",
       "      <td>HI</td>\n",
       "      <td>Dog</td>\n",
       "    </tr>\n",
       "    <tr>\n",
       "      <th>3</th>\n",
       "      <td>January</td>\n",
       "      <td>AK</td>\n",
       "      <td>Dog</td>\n",
       "    </tr>\n",
       "    <tr>\n",
       "      <th>4</th>\n",
       "      <td>July</td>\n",
       "      <td>RI</td>\n",
       "      <td>Cats</td>\n",
       "    </tr>\n",
       "    <tr>\n",
       "      <th>5</th>\n",
       "      <td>September</td>\n",
       "      <td>CA</td>\n",
       "      <td>Cats</td>\n",
       "    </tr>\n",
       "    <tr>\n",
       "      <th>6</th>\n",
       "      <td>April</td>\n",
       "      <td>CA</td>\n",
       "      <td>Dog</td>\n",
       "    </tr>\n",
       "    <tr>\n",
       "      <th>7</th>\n",
       "      <td>January</td>\n",
       "      <td>CA</td>\n",
       "      <td>Cats</td>\n",
       "    </tr>\n",
       "    <tr>\n",
       "      <th>8</th>\n",
       "      <td>November</td>\n",
       "      <td>FL</td>\n",
       "      <td>Dog</td>\n",
       "    </tr>\n",
       "    <tr>\n",
       "      <th>9</th>\n",
       "      <td>December</td>\n",
       "      <td>FL</td>\n",
       "      <td>Cats</td>\n",
       "    </tr>\n",
       "  </tbody>\n",
       "</table>\n",
       "</div>"
      ],
      "text/plain": [
       "  birth_month state   pet\n",
       "0     January   NaN  Cats\n",
       "1     January    CA  Cats\n",
       "2        Sept    HI   Dog\n",
       "3     January    AK   Dog\n",
       "4        July    RI  Cats\n",
       "5   September    CA  Cats\n",
       "6       April    CA   Dog\n",
       "7     January    CA  Cats\n",
       "8    November    FL   Dog\n",
       "9    December    FL  Cats"
      ]
     },
     "execution_count": 85,
     "metadata": {},
     "output_type": "execute_result"
    }
   ],
   "source": [
    "# Creating a dictionaty to map the city names to their respective states\n",
    "state_mapping = {\n",
    "    'Hawaii': 'HI',\n",
    "    'California': 'CA',\n",
    "    'Florida': 'FL'\n",
    "}\n",
    "\n",
    "# Replacing the city names with their respective state abbreviations\n",
    "pets_df['state'] = pets_df['state'].replace(state_mapping)\n",
    "\n",
    "# Displaying the final DataFrame with updated month names and state abbreviations\n",
    "pets_df"
   ]
  },
  {
   "cell_type": "markdown",
   "id": "777f86fd",
   "metadata": {},
   "source": [
    " ### dealing with the missing value in the state column"
   ]
  },
  {
   "cell_type": "code",
   "execution_count": 86,
   "id": "8d7e1cc6",
   "metadata": {},
   "outputs": [
    {
     "name": "stdout",
     "output_type": "stream",
     "text": [
      "Mode of the state column: CA\n"
     ]
    }
   ],
   "source": [
    "# Determining the mode of the 'state' column\n",
    "state_mode = pets_df['state'].mode()[0]\n",
    "\n",
    "# Displaying the mode of the 'state' column\n",
    "print(\"Mode of the state column:\", state_mode)"
   ]
  },
  {
   "cell_type": "code",
   "execution_count": 87,
   "id": "6ca7afad",
   "metadata": {},
   "outputs": [
    {
     "name": "stderr",
     "output_type": "stream",
     "text": [
      "C:\\Users\\PC\\AppData\\Local\\Temp\\ipykernel_13664\\2414444710.py:2: FutureWarning: A value is trying to be set on a copy of a DataFrame or Series through chained assignment using an inplace method.\n",
      "The behavior will change in pandas 3.0. This inplace method will never work because the intermediate object on which we are setting values always behaves as a copy.\n",
      "\n",
      "For example, when doing 'df[col].method(value, inplace=True)', try using 'df.method({col: value}, inplace=True)' or df[col] = df[col].method(value) instead, to perform the operation inplace on the original object.\n",
      "\n",
      "\n",
      "  pets_df['state'].fillna(state_mode, inplace=True)\n"
     ]
    },
    {
     "data": {
      "application/vnd.microsoft.datawrangler.viewer.v0+json": {
       "columns": [
        {
         "name": "index",
         "rawType": "int64",
         "type": "integer"
        },
        {
         "name": "birth_month",
         "rawType": "object",
         "type": "string"
        },
        {
         "name": "state",
         "rawType": "object",
         "type": "string"
        },
        {
         "name": "pet",
         "rawType": "object",
         "type": "string"
        }
       ],
       "ref": "e67f7e98-1e58-4c6d-895a-3bc4b586002b",
       "rows": [
        [
         "0",
         "January",
         "CA",
         "Cats"
        ],
        [
         "1",
         "January",
         "CA",
         "Cats"
        ],
        [
         "2",
         "Sept",
         "HI",
         "Dog"
        ],
        [
         "3",
         "January",
         "AK",
         "Dog"
        ],
        [
         "4",
         "July",
         "RI",
         "Cats"
        ],
        [
         "5",
         "September",
         "CA",
         "Cats"
        ],
        [
         "6",
         "April",
         "CA",
         "Dog"
        ],
        [
         "7",
         "January",
         "CA",
         "Cats"
        ],
        [
         "8",
         "November",
         "FL",
         "Dog"
        ],
        [
         "9",
         "December",
         "FL",
         "Cats"
        ]
       ],
       "shape": {
        "columns": 3,
        "rows": 10
       }
      },
      "text/html": [
       "<div>\n",
       "<style scoped>\n",
       "    .dataframe tbody tr th:only-of-type {\n",
       "        vertical-align: middle;\n",
       "    }\n",
       "\n",
       "    .dataframe tbody tr th {\n",
       "        vertical-align: top;\n",
       "    }\n",
       "\n",
       "    .dataframe thead th {\n",
       "        text-align: right;\n",
       "    }\n",
       "</style>\n",
       "<table border=\"1\" class=\"dataframe\">\n",
       "  <thead>\n",
       "    <tr style=\"text-align: right;\">\n",
       "      <th></th>\n",
       "      <th>birth_month</th>\n",
       "      <th>state</th>\n",
       "      <th>pet</th>\n",
       "    </tr>\n",
       "  </thead>\n",
       "  <tbody>\n",
       "    <tr>\n",
       "      <th>0</th>\n",
       "      <td>January</td>\n",
       "      <td>CA</td>\n",
       "      <td>Cats</td>\n",
       "    </tr>\n",
       "    <tr>\n",
       "      <th>1</th>\n",
       "      <td>January</td>\n",
       "      <td>CA</td>\n",
       "      <td>Cats</td>\n",
       "    </tr>\n",
       "    <tr>\n",
       "      <th>2</th>\n",
       "      <td>Sept</td>\n",
       "      <td>HI</td>\n",
       "      <td>Dog</td>\n",
       "    </tr>\n",
       "    <tr>\n",
       "      <th>3</th>\n",
       "      <td>January</td>\n",
       "      <td>AK</td>\n",
       "      <td>Dog</td>\n",
       "    </tr>\n",
       "    <tr>\n",
       "      <th>4</th>\n",
       "      <td>July</td>\n",
       "      <td>RI</td>\n",
       "      <td>Cats</td>\n",
       "    </tr>\n",
       "    <tr>\n",
       "      <th>5</th>\n",
       "      <td>September</td>\n",
       "      <td>CA</td>\n",
       "      <td>Cats</td>\n",
       "    </tr>\n",
       "    <tr>\n",
       "      <th>6</th>\n",
       "      <td>April</td>\n",
       "      <td>CA</td>\n",
       "      <td>Dog</td>\n",
       "    </tr>\n",
       "    <tr>\n",
       "      <th>7</th>\n",
       "      <td>January</td>\n",
       "      <td>CA</td>\n",
       "      <td>Cats</td>\n",
       "    </tr>\n",
       "    <tr>\n",
       "      <th>8</th>\n",
       "      <td>November</td>\n",
       "      <td>FL</td>\n",
       "      <td>Dog</td>\n",
       "    </tr>\n",
       "    <tr>\n",
       "      <th>9</th>\n",
       "      <td>December</td>\n",
       "      <td>FL</td>\n",
       "      <td>Cats</td>\n",
       "    </tr>\n",
       "  </tbody>\n",
       "</table>\n",
       "</div>"
      ],
      "text/plain": [
       "  birth_month state   pet\n",
       "0     January    CA  Cats\n",
       "1     January    CA  Cats\n",
       "2        Sept    HI   Dog\n",
       "3     January    AK   Dog\n",
       "4        July    RI  Cats\n",
       "5   September    CA  Cats\n",
       "6       April    CA   Dog\n",
       "7     January    CA  Cats\n",
       "8    November    FL   Dog\n",
       "9    December    FL  Cats"
      ]
     },
     "execution_count": 87,
     "metadata": {},
     "output_type": "execute_result"
    }
   ],
   "source": [
    "# Fill the missing values in the state column with the mode\n",
    "pets_df['state'].fillna(state_mode, inplace=True)\n",
    "\n",
    "# Displaying the DataFrame after filling missing values\n",
    "pets_df"
   ]
  },
  {
   "cell_type": "markdown",
   "id": "3476713a",
   "metadata": {},
   "source": [
    "### treating the pet column"
   ]
  },
  {
   "cell_type": "code",
   "execution_count": 88,
   "id": "cf092f5e",
   "metadata": {},
   "outputs": [
    {
     "data": {
      "application/vnd.microsoft.datawrangler.viewer.v0+json": {
       "columns": [
        {
         "name": "index",
         "rawType": "int64",
         "type": "integer"
        },
        {
         "name": "birth_month",
         "rawType": "object",
         "type": "string"
        },
        {
         "name": "state",
         "rawType": "object",
         "type": "string"
        },
        {
         "name": "pet",
         "rawType": "object",
         "type": "string"
        }
       ],
       "ref": "0d399d20-30c2-4445-87e4-12e19666449e",
       "rows": [
        [
         "0",
         "January",
         "CA",
         "Cat"
        ],
        [
         "1",
         "January",
         "CA",
         "Cat"
        ],
        [
         "2",
         "Sept",
         "HI",
         "Dog"
        ],
        [
         "3",
         "January",
         "AK",
         "Dog"
        ],
        [
         "4",
         "July",
         "RI",
         "Cat"
        ],
        [
         "5",
         "September",
         "CA",
         "Cat"
        ],
        [
         "6",
         "April",
         "CA",
         "Dog"
        ],
        [
         "7",
         "January",
         "CA",
         "Cat"
        ],
        [
         "8",
         "November",
         "FL",
         "Dog"
        ],
        [
         "9",
         "December",
         "FL",
         "Cat"
        ]
       ],
       "shape": {
        "columns": 3,
        "rows": 10
       }
      },
      "text/html": [
       "<div>\n",
       "<style scoped>\n",
       "    .dataframe tbody tr th:only-of-type {\n",
       "        vertical-align: middle;\n",
       "    }\n",
       "\n",
       "    .dataframe tbody tr th {\n",
       "        vertical-align: top;\n",
       "    }\n",
       "\n",
       "    .dataframe thead th {\n",
       "        text-align: right;\n",
       "    }\n",
       "</style>\n",
       "<table border=\"1\" class=\"dataframe\">\n",
       "  <thead>\n",
       "    <tr style=\"text-align: right;\">\n",
       "      <th></th>\n",
       "      <th>birth_month</th>\n",
       "      <th>state</th>\n",
       "      <th>pet</th>\n",
       "    </tr>\n",
       "  </thead>\n",
       "  <tbody>\n",
       "    <tr>\n",
       "      <th>0</th>\n",
       "      <td>January</td>\n",
       "      <td>CA</td>\n",
       "      <td>Cat</td>\n",
       "    </tr>\n",
       "    <tr>\n",
       "      <th>1</th>\n",
       "      <td>January</td>\n",
       "      <td>CA</td>\n",
       "      <td>Cat</td>\n",
       "    </tr>\n",
       "    <tr>\n",
       "      <th>2</th>\n",
       "      <td>Sept</td>\n",
       "      <td>HI</td>\n",
       "      <td>Dog</td>\n",
       "    </tr>\n",
       "    <tr>\n",
       "      <th>3</th>\n",
       "      <td>January</td>\n",
       "      <td>AK</td>\n",
       "      <td>Dog</td>\n",
       "    </tr>\n",
       "    <tr>\n",
       "      <th>4</th>\n",
       "      <td>July</td>\n",
       "      <td>RI</td>\n",
       "      <td>Cat</td>\n",
       "    </tr>\n",
       "    <tr>\n",
       "      <th>5</th>\n",
       "      <td>September</td>\n",
       "      <td>CA</td>\n",
       "      <td>Cat</td>\n",
       "    </tr>\n",
       "    <tr>\n",
       "      <th>6</th>\n",
       "      <td>April</td>\n",
       "      <td>CA</td>\n",
       "      <td>Dog</td>\n",
       "    </tr>\n",
       "    <tr>\n",
       "      <th>7</th>\n",
       "      <td>January</td>\n",
       "      <td>CA</td>\n",
       "      <td>Cat</td>\n",
       "    </tr>\n",
       "    <tr>\n",
       "      <th>8</th>\n",
       "      <td>November</td>\n",
       "      <td>FL</td>\n",
       "      <td>Dog</td>\n",
       "    </tr>\n",
       "    <tr>\n",
       "      <th>9</th>\n",
       "      <td>December</td>\n",
       "      <td>FL</td>\n",
       "      <td>Cat</td>\n",
       "    </tr>\n",
       "  </tbody>\n",
       "</table>\n",
       "</div>"
      ],
      "text/plain": [
       "  birth_month state  pet\n",
       "0     January    CA  Cat\n",
       "1     January    CA  Cat\n",
       "2        Sept    HI  Dog\n",
       "3     January    AK  Dog\n",
       "4        July    RI  Cat\n",
       "5   September    CA  Cat\n",
       "6       April    CA  Dog\n",
       "7     January    CA  Cat\n",
       "8    November    FL  Dog\n",
       "9    December    FL  Cat"
      ]
     },
     "execution_count": 88,
     "metadata": {},
     "output_type": "execute_result"
    }
   ],
   "source": [
    "# Since cats are in plural, we will convert the 'pet_type' column to singular\n",
    "pets_df['pet'] = pets_df['pet'].str.replace('Cats', 'Cat')\n",
    "\n",
    "# Displaying the cleaned DataFrame\n",
    "pets_df"
   ]
  },
  {
   "cell_type": "markdown",
   "id": "dc4ea93a",
   "metadata": {},
   "source": [
    "The data frame is now clean and ready for analysis"
   ]
  },
  {
   "cell_type": "markdown",
   "id": "55f27aa4",
   "metadata": {},
   "source": [
    "# Data Visualization"
   ]
  },
  {
   "cell_type": "code",
   "execution_count": 89,
   "id": "20780e69",
   "metadata": {},
   "outputs": [
    {
     "data": {
      "image/png": "[encoded data removed]",
      "text/plain": [
       "<Figure size 640x480 with 1 Axes>"
      ]
     },
     "metadata": {},
     "output_type": "display_data"
    }
   ],
   "source": [
    "# count plot of the state column\n",
    "pets_df['state'].value_counts().plot(kind='bar')\n",
    "plt.title('Bar Plot of State')\n",
    "plt.xlabel(\"State\")\n",
    "plt.ylabel(\"count\")\n",
    "plt.grid()\n",
    "plt.show()\n",
    "plt.show()"
   ]
  },
  {
   "cell_type": "code",
   "execution_count": 90,
   "id": "8df543d5",
   "metadata": {},
   "outputs": [
    {
     "data": {
      "image/png": "[encoded data removed]",
      "text/plain": [
       "<Figure size 640x480 with 1 Axes>"
      ]
     },
     "metadata": {},
     "output_type": "display_data"
    }
   ],
   "source": [
    "# count plot of the birth month of the pet\n",
    "pets_df['birth_month'].value_counts().plot(kind='bar')\n",
    "plt.title('Bar plot of Birth Month')\n",
    "plt.xlabel(\"Months\")\n",
    "plt.ylabel(\"count\")\n",
    "plt.grid()\n",
    "plt.show()\n",
    "plt.show()"
   ]
  },
  {
   "cell_type": "code",
   "execution_count": 91,
   "id": "767e8117",
   "metadata": {},
   "outputs": [
    {
     "data": {
      "image/png": "[encoded data removed]",
      "text/plain": [
       "<Figure size 640x480 with 1 Axes>"
      ]
     },
     "metadata": {},
     "output_type": "display_data"
    }
   ],
   "source": [
    "# count plot of the birth month of the pet\n",
    "pets_df['pet'].value_counts().plot(kind='bar')\n",
    "plt.title('Bar Plot of Pet')\n",
    "plt.xlabel(\"pet\")\n",
    "plt.ylabel(\"count\")\n",
    "plt.grid()\n",
    "plt.show()"
   ]
  }
 ],
 "metadata": {
  "kernelspec": {
   "display_name": "Python 3",
   "language": "python",
   "name": "python3"
  },
  "language_info": {
   "codemirror_mode": {
    "name": "ipython",
    "version": 3
   },
   "file_extension": ".py",
   "mimetype": "text/x-python",
   "name": "python",
   "nbconvert_exporter": "python",
   "pygments_lexer": "ipython3",
   "version": "3.13.3"
  }
 },
 "nbformat": 4,
 "nbformat_minor": 5
}
