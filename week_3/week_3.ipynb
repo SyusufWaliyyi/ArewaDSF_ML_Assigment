{
 "cells": [
  {
   "cell_type": "markdown",
   "id": "8d619306",
   "metadata": {},
   "source": [
    "__*SHAMSUDDEEN YUSUF*__\n",
    "ASSIGNMENT 3\n",
    "ADS/P7/24/035"
   ]
  },
  {
   "cell_type": "markdown",
   "id": "b7a7a1ff",
   "metadata": {},
   "source": [
    "__Import the necessary library__"
   ]
  },
  {
   "cell_type": "markdown",
   "id": "350ae196",
   "metadata": {},
   "source": [
    "Data source [student-sleep-monitoring-datasets](https://www.kaggle.com/datasets/valencaycodes/simulated-student-sleep-dataset)"
   ]
  },
  {
   "cell_type": "code",
   "execution_count": 1,
   "id": "05eaa091",
   "metadata": {},
   "outputs": [],
   "source": [
    "import pandas as pd\n",
    "import numpy as np\n",
    "import matplotlib.pyplot as plt\n",
    "import seaborn as sns"
   ]
  },
  {
   "cell_type": "markdown",
   "id": "2a5becd7",
   "metadata": {},
   "source": [
    "__Load the dataset__"
   ]
  },
  {
   "cell_type": "code",
   "execution_count": 2,
   "id": "8e9c9f96",
   "metadata": {},
   "outputs": [
    {
     "data": {
      "application/vnd.microsoft.datawrangler.viewer.v0+json": {
       "columns": [
        {
         "name": "index",
         "rawType": "int64",
         "type": "integer"
        },
        {
         "name": "Student_ID",
         "rawType": "object",
         "type": "string"
        },
        {
         "name": "Sleep_Hours",
         "rawType": "float64",
         "type": "float"
        },
        {
         "name": "Stress_Level",
         "rawType": "int64",
         "type": "integer"
        },
        {
         "name": "Year",
         "rawType": "object",
         "type": "string"
        },
        {
         "name": "Major",
         "rawType": "object",
         "type": "string"
        },
        {
         "name": "Use_Sleep_Tech",
         "rawType": "object",
         "type": "string"
        },
        {
         "name": "Sleep_Issues",
         "rawType": "object",
         "type": "string"
        },
        {
         "name": "GPA",
         "rawType": "float64",
         "type": "float"
        }
       ],
       "ref": "1b3a20aa-1070-455f-b473-ac319e468923",
       "rows": [
        [
         "0",
         "STUD001",
         "7.1",
         "3",
         "3rd",
         "Arts",
         "Yes",
         "Yes",
         "3.76"
        ],
        [
         "1",
         "STUD002",
         "6.3",
         "7",
         "3rd",
         "Commerce",
         "No",
         "No",
         "3.68"
        ],
        [
         "2",
         "STUD003",
         "7.3",
         "9",
         "1st",
         "Science",
         "No",
         "No",
         "3.59"
        ],
        [
         "3",
         "STUD004",
         "8.3",
         "7",
         "3rd",
         "Commerce",
         "Yes",
         "Yes",
         "3.4"
        ],
        [
         "4",
         "STUD005",
         "6.2",
         "3",
         "3rd",
         "Arts",
         "No",
         "Yes",
         "3.72"
        ]
       ],
       "shape": {
        "columns": 8,
        "rows": 5
       }
      },
      "text/html": [
       "<div>\n",
       "<style scoped>\n",
       "    .dataframe tbody tr th:only-of-type {\n",
       "        vertical-align: middle;\n",
       "    }\n",
       "\n",
       "    .dataframe tbody tr th {\n",
       "        vertical-align: top;\n",
       "    }\n",
       "\n",
       "    .dataframe thead th {\n",
       "        text-align: right;\n",
       "    }\n",
       "</style>\n",
       "<table border=\"1\" class=\"dataframe\">\n",
       "  <thead>\n",
       "    <tr style=\"text-align: right;\">\n",
       "      <th></th>\n",
       "      <th>Student_ID</th>\n",
       "      <th>Sleep_Hours</th>\n",
       "      <th>Stress_Level</th>\n",
       "      <th>Year</th>\n",
       "      <th>Major</th>\n",
       "      <th>Use_Sleep_Tech</th>\n",
       "      <th>Sleep_Issues</th>\n",
       "      <th>GPA</th>\n",
       "    </tr>\n",
       "  </thead>\n",
       "  <tbody>\n",
       "    <tr>\n",
       "      <th>0</th>\n",
       "      <td>STUD001</td>\n",
       "      <td>7.1</td>\n",
       "      <td>3</td>\n",
       "      <td>3rd</td>\n",
       "      <td>Arts</td>\n",
       "      <td>Yes</td>\n",
       "      <td>Yes</td>\n",
       "      <td>3.76</td>\n",
       "    </tr>\n",
       "    <tr>\n",
       "      <th>1</th>\n",
       "      <td>STUD002</td>\n",
       "      <td>6.3</td>\n",
       "      <td>7</td>\n",
       "      <td>3rd</td>\n",
       "      <td>Commerce</td>\n",
       "      <td>No</td>\n",
       "      <td>No</td>\n",
       "      <td>3.68</td>\n",
       "    </tr>\n",
       "    <tr>\n",
       "      <th>2</th>\n",
       "      <td>STUD003</td>\n",
       "      <td>7.3</td>\n",
       "      <td>9</td>\n",
       "      <td>1st</td>\n",
       "      <td>Science</td>\n",
       "      <td>No</td>\n",
       "      <td>No</td>\n",
       "      <td>3.59</td>\n",
       "    </tr>\n",
       "    <tr>\n",
       "      <th>3</th>\n",
       "      <td>STUD004</td>\n",
       "      <td>8.3</td>\n",
       "      <td>7</td>\n",
       "      <td>3rd</td>\n",
       "      <td>Commerce</td>\n",
       "      <td>Yes</td>\n",
       "      <td>Yes</td>\n",
       "      <td>3.40</td>\n",
       "    </tr>\n",
       "    <tr>\n",
       "      <th>4</th>\n",
       "      <td>STUD005</td>\n",
       "      <td>6.2</td>\n",
       "      <td>3</td>\n",
       "      <td>3rd</td>\n",
       "      <td>Arts</td>\n",
       "      <td>No</td>\n",
       "      <td>Yes</td>\n",
       "      <td>3.72</td>\n",
       "    </tr>\n",
       "  </tbody>\n",
       "</table>\n",
       "</div>"
      ],
      "text/plain": [
       "  Student_ID  Sleep_Hours  Stress_Level Year     Major Use_Sleep_Tech  \\\n",
       "0    STUD001          7.1             3  3rd      Arts            Yes   \n",
       "1    STUD002          6.3             7  3rd  Commerce             No   \n",
       "2    STUD003          7.3             9  1st   Science             No   \n",
       "3    STUD004          8.3             7  3rd  Commerce            Yes   \n",
       "4    STUD005          6.2             3  3rd      Arts             No   \n",
       "\n",
       "  Sleep_Issues   GPA  \n",
       "0          Yes  3.76  \n",
       "1           No  3.68  \n",
       "2           No  3.59  \n",
       "3          Yes  3.40  \n",
       "4          Yes  3.72  "
      ]
     },
     "execution_count": 2,
     "metadata": {},
     "output_type": "execute_result"
    }
   ],
   "source": [
    "sleep_df = pd.read_csv('simulated_student_sleep_data.csv')\n",
    "sleep_df.head()"
   ]
  },
  {
   "cell_type": "markdown",
   "id": "7a1f59db",
   "metadata": {},
   "source": [
    "__Data info__"
   ]
  },
  {
   "cell_type": "code",
   "execution_count": 4,
   "id": "ec2ecf48",
   "metadata": {},
   "outputs": [
    {
     "name": "stdout",
     "output_type": "stream",
     "text": [
      "<class 'pandas.core.frame.DataFrame'>\n",
      "RangeIndex: 50 entries, 0 to 49\n",
      "Data columns (total 8 columns):\n",
      " #   Column          Non-Null Count  Dtype  \n",
      "---  ------          --------------  -----  \n",
      " 0   Student_ID      50 non-null     object \n",
      " 1   Sleep_Hours     50 non-null     float64\n",
      " 2   Stress_Level    50 non-null     int64  \n",
      " 3   Year            50 non-null     object \n",
      " 4   Major           50 non-null     object \n",
      " 5   Use_Sleep_Tech  50 non-null     object \n",
      " 6   Sleep_Issues    50 non-null     object \n",
      " 7   GPA             50 non-null     float64\n",
      "dtypes: float64(2), int64(1), object(5)\n",
      "memory usage: 3.3+ KB\n"
     ]
    }
   ],
   "source": [
    "sleep_df.info()"
   ]
  },
  {
   "cell_type": "markdown",
   "id": "0dc6938c",
   "metadata": {},
   "source": [
    "__Data summary description__"
   ]
  },
  {
   "cell_type": "code",
   "execution_count": 5,
   "id": "de8162b6",
   "metadata": {},
   "outputs": [
    {
     "data": {
      "application/vnd.microsoft.datawrangler.viewer.v0+json": {
       "columns": [
        {
         "name": "index",
         "rawType": "object",
         "type": "string"
        },
        {
         "name": "Sleep_Hours",
         "rawType": "float64",
         "type": "float"
        },
        {
         "name": "Stress_Level",
         "rawType": "float64",
         "type": "float"
        },
        {
         "name": "GPA",
         "rawType": "float64",
         "type": "float"
        }
       ],
       "ref": "9a49da46-c526-4e85-b143-b90593d42965",
       "rows": [
        [
         "count",
         "50.0",
         "50.0",
         "50.0"
        ],
        [
         "mean",
         "6.2219999999999995",
         "5.8",
         "3.5406"
        ],
        [
         "std",
         "1.1299792304394316",
         "2.2314999074019015",
         "0.25787522690840475"
        ],
        [
         "min",
         "4.1",
         "3.0",
         "2.95"
        ],
        [
         "25%",
         "5.45",
         "4.0",
         "3.3925"
        ],
        [
         "50%",
         "6.2",
         "5.0",
         "3.5199999999999996"
        ],
        [
         "75%",
         "6.9",
         "8.0",
         "3.7425"
        ],
        [
         "max",
         "8.7",
         "9.0",
         "4.0"
        ]
       ],
       "shape": {
        "columns": 3,
        "rows": 8
       }
      },
      "text/html": [
       "<div>\n",
       "<style scoped>\n",
       "    .dataframe tbody tr th:only-of-type {\n",
       "        vertical-align: middle;\n",
       "    }\n",
       "\n",
       "    .dataframe tbody tr th {\n",
       "        vertical-align: top;\n",
       "    }\n",
       "\n",
       "    .dataframe thead th {\n",
       "        text-align: right;\n",
       "    }\n",
       "</style>\n",
       "<table border=\"1\" class=\"dataframe\">\n",
       "  <thead>\n",
       "    <tr style=\"text-align: right;\">\n",
       "      <th></th>\n",
       "      <th>Sleep_Hours</th>\n",
       "      <th>Stress_Level</th>\n",
       "      <th>GPA</th>\n",
       "    </tr>\n",
       "  </thead>\n",
       "  <tbody>\n",
       "    <tr>\n",
       "      <th>count</th>\n",
       "      <td>50.000000</td>\n",
       "      <td>50.0000</td>\n",
       "      <td>50.000000</td>\n",
       "    </tr>\n",
       "    <tr>\n",
       "      <th>mean</th>\n",
       "      <td>6.222000</td>\n",
       "      <td>5.8000</td>\n",
       "      <td>3.540600</td>\n",
       "    </tr>\n",
       "    <tr>\n",
       "      <th>std</th>\n",
       "      <td>1.129979</td>\n",
       "      <td>2.2315</td>\n",
       "      <td>0.257875</td>\n",
       "    </tr>\n",
       "    <tr>\n",
       "      <th>min</th>\n",
       "      <td>4.100000</td>\n",
       "      <td>3.0000</td>\n",
       "      <td>2.950000</td>\n",
       "    </tr>\n",
       "    <tr>\n",
       "      <th>25%</th>\n",
       "      <td>5.450000</td>\n",
       "      <td>4.0000</td>\n",
       "      <td>3.392500</td>\n",
       "    </tr>\n",
       "    <tr>\n",
       "      <th>50%</th>\n",
       "      <td>6.200000</td>\n",
       "      <td>5.0000</td>\n",
       "      <td>3.520000</td>\n",
       "    </tr>\n",
       "    <tr>\n",
       "      <th>75%</th>\n",
       "      <td>6.900000</td>\n",
       "      <td>8.0000</td>\n",
       "      <td>3.742500</td>\n",
       "    </tr>\n",
       "    <tr>\n",
       "      <th>max</th>\n",
       "      <td>8.700000</td>\n",
       "      <td>9.0000</td>\n",
       "      <td>4.000000</td>\n",
       "    </tr>\n",
       "  </tbody>\n",
       "</table>\n",
       "</div>"
      ],
      "text/plain": [
       "       Sleep_Hours  Stress_Level        GPA\n",
       "count    50.000000       50.0000  50.000000\n",
       "mean      6.222000        5.8000   3.540600\n",
       "std       1.129979        2.2315   0.257875\n",
       "min       4.100000        3.0000   2.950000\n",
       "25%       5.450000        4.0000   3.392500\n",
       "50%       6.200000        5.0000   3.520000\n",
       "75%       6.900000        8.0000   3.742500\n",
       "max       8.700000        9.0000   4.000000"
      ]
     },
     "execution_count": 5,
     "metadata": {},
     "output_type": "execute_result"
    }
   ],
   "source": [
    "sleep_df.describe()"
   ]
  },
  {
   "cell_type": "markdown",
   "id": "589cdb4c",
   "metadata": {},
   "source": [
    "__Data Shape__"
   ]
  },
  {
   "cell_type": "code",
   "execution_count": 6,
   "id": "f3325fd4",
   "metadata": {},
   "outputs": [
    {
     "data": {
      "text/plain": [
       "(50, 8)"
      ]
     },
     "execution_count": 6,
     "metadata": {},
     "output_type": "execute_result"
    }
   ],
   "source": [
    "sleep_df.shape"
   ]
  },
  {
   "cell_type": "markdown",
   "id": "67b83e58",
   "metadata": {},
   "source": [
    "__Checking for missing value__"
   ]
  },
  {
   "cell_type": "code",
   "execution_count": 7,
   "id": "d0078fce",
   "metadata": {},
   "outputs": [
    {
     "data": {
      "application/vnd.microsoft.datawrangler.viewer.v0+json": {
       "columns": [
        {
         "name": "index",
         "rawType": "object",
         "type": "string"
        },
        {
         "name": "0",
         "rawType": "int64",
         "type": "integer"
        }
       ],
       "ref": "b1baf62e-ad7a-4383-b485-f2ebb994d11a",
       "rows": [
        [
         "Student_ID",
         "0"
        ],
        [
         "Sleep_Hours",
         "0"
        ],
        [
         "Stress_Level",
         "0"
        ],
        [
         "Year",
         "0"
        ],
        [
         "Major",
         "0"
        ],
        [
         "Use_Sleep_Tech",
         "0"
        ],
        [
         "Sleep_Issues",
         "0"
        ],
        [
         "GPA",
         "0"
        ]
       ],
       "shape": {
        "columns": 1,
        "rows": 8
       }
      },
      "text/plain": [
       "Student_ID        0\n",
       "Sleep_Hours       0\n",
       "Stress_Level      0\n",
       "Year              0\n",
       "Major             0\n",
       "Use_Sleep_Tech    0\n",
       "Sleep_Issues      0\n",
       "GPA               0\n",
       "dtype: int64"
      ]
     },
     "execution_count": 7,
     "metadata": {},
     "output_type": "execute_result"
    }
   ],
   "source": [
    "sleep_df.isnull().sum()"
   ]
  },
  {
   "cell_type": "markdown",
   "id": "cd0234b0",
   "metadata": {},
   "source": [
    "There is no missing value in the dataset"
   ]
  },
  {
   "cell_type": "markdown",
   "id": "2a702f88",
   "metadata": {},
   "source": [
    "What is the minimum and maximum sleeping hours "
   ]
  },
  {
   "cell_type": "code",
   "execution_count": 15,
   "id": "b13adcef",
   "metadata": {},
   "outputs": [
    {
     "name": "stdout",
     "output_type": "stream",
     "text": [
      "Maximum sleep duration: 8.7 hours\n",
      "Minimum sleep duration: 4.1 hours\n"
     ]
    }
   ],
   "source": [
    "# Maximum sleep duration\n",
    "max_sleep = sleep_df['Sleep_Hours'].max()\n",
    "print(f\"Maximum sleep duration: {max_sleep} hours\")\n",
    "\n",
    "# Minimum sleep duration\n",
    "min_sleep = sleep_df['Sleep_Hours'].min()\n",
    "print(f\"Minimum sleep duration: {min_sleep} hours\")"
   ]
  },
  {
   "cell_type": "code",
   "execution_count": 19,
   "id": "aa3c2c95",
   "metadata": {},
   "outputs": [
    {
     "data": {
      "image/png": "[encoded data removed]",
      "text/plain": [
       "<Figure size 640x480 with 1 Axes>"
      ]
     },
     "metadata": {},
     "output_type": "display_data"
    }
   ],
   "source": [
    "# does the data have any outliers?\n",
    "sns.boxplot(x='Sleep_Hours', data=sleep_df, hue='Sleep_Issues')\n",
    "plt.title('Boxplot of Sleep Hours')\n",
    "plt.xlabel('Sleep Hours')\n",
    "plt.ylabel('Count')\n",
    "plt.grid(axis='x', linestyle='--', alpha=0.7)\n",
    "plt.show()"
   ]
  },
  {
   "cell_type": "markdown",
   "id": "ff3a46ed",
   "metadata": {},
   "source": [
    "The dataset is devoid of any outlier"
   ]
  },
  {
   "cell_type": "code",
   "execution_count": 20,
   "id": "cbf6d0f4",
   "metadata": {},
   "outputs": [
    {
     "data": {
      "image/png": "[encoded data removed]",
      "text/plain": [
       "<Figure size 800x600 with 1 Axes>"
      ]
     },
     "metadata": {},
     "output_type": "display_data"
    }
   ],
   "source": [
    "# Visualizing the distribution of sleep hours\n",
    "plt.figure(figsize=(8, 6))\n",
    "sns.histplot(x='Sleep_Hours', data=sleep_df, bins=10, color='green', edgecolor='black', kde=True)\n",
    "plt.title('Distribution of Hours of Sleep')\n",
    "plt.xlabel('Hours of Sleep')\n",
    "plt.ylabel('Frequency')\n",
    "plt.grid(axis='y', linestyle='--', alpha=0.7)\n",
    "plt.show()"
   ]
  },
  {
   "cell_type": "markdown",
   "id": "e95b0160",
   "metadata": {},
   "source": [
    "The distribution is approximately a bell shape, which means most people sleeping hours is within the average."
   ]
  },
  {
   "cell_type": "code",
   "execution_count": 22,
   "id": "817aec31",
   "metadata": {},
   "outputs": [
    {
     "name": "stdout",
     "output_type": "stream",
     "text": [
      "Mean Sleep Hours: 6.22 hours\n"
     ]
    }
   ],
   "source": [
    "# mean sleep hours\n",
    "mean_sleep = sleep_df['Sleep_Hours'].mean()\n",
    "print(f\"Mean Sleep Hours: {round(mean_sleep, 2)} hours\")"
   ]
  },
  {
   "cell_type": "markdown",
   "id": "3bd078b5",
   "metadata": {},
   "source": [
    "Is there any relationship between the number of hours a student sleep and his GPA?\n",
    "\n",
    "Let see the correlation between the two."
   ]
  },
  {
   "cell_type": "code",
   "execution_count": 23,
   "id": "2569133e",
   "metadata": {},
   "outputs": [
    {
     "name": "stdout",
     "output_type": "stream",
     "text": [
      "Correlation between Sleep Hours and GPA: 0.303\n"
     ]
    }
   ],
   "source": [
    "# Sleep hours and GPA correlation\n",
    "print(f\"Correlation between Sleep Hours and GPA: {round(sleep_df['Sleep_Hours'].corr(sleep_df['GPA']),3)}\")"
   ]
  },
  {
   "cell_type": "markdown",
   "id": "325d02e2",
   "metadata": {},
   "source": [
    "There is correlation between although not very strong. However student the GPA is somewhat proportional to the sleeping hours. Most likely the student that sleeps tend to have relatively better GPA."
   ]
  },
  {
   "cell_type": "markdown",
   "id": "ca54c109",
   "metadata": {},
   "source": [
    "Let visualize the relationship using scatter plot"
   ]
  },
  {
   "cell_type": "code",
   "execution_count": null,
   "id": "f8293292",
   "metadata": {},
   "outputs": [
    {
     "data": {
      "image/png": "[encoded data removed]",
      "text/plain": [
       "<Figure size 640x480 with 1 Axes>"
      ]
     },
     "metadata": {},
     "output_type": "display_data"
    }
   ],
   "source": [
    "# Scatter plot to visualize the relationship between sleep hours and GPA\n",
    "sns.scatterplot(x='Sleep_Hours', y='GPA', data=sleep_df, hue='Major')\n",
    "plt.title('Sleep Hours vs. GPA')\n",
    "plt.xlabel('Sleep Hours')\n",
    "plt.ylabel('GPA')\n",
    "plt.grid(axis='y', linestyle='--', alpha=0.5)\n",
    "plt.show()"
   ]
  },
  {
   "cell_type": "code",
   "execution_count": 27,
   "id": "416a6403",
   "metadata": {},
   "outputs": [
    {
     "name": "stdout",
     "output_type": "stream",
     "text": [
      "0.4119118831205371\n"
     ]
    }
   ],
   "source": [
    "science = sleep_df[sleep_df['Major'] == 'Science']\n",
    "print((science.Sleep_Hours).corr(science.GPA))"
   ]
  },
  {
   "cell_type": "code",
   "execution_count": 28,
   "id": "9331ad68",
   "metadata": {},
   "outputs": [
    {
     "name": "stdout",
     "output_type": "stream",
     "text": [
      "nan\n"
     ]
    }
   ],
   "source": [
    "art = sleep_df[sleep_df['Major'] == 'Art']\n",
    "print((art.Sleep_Hours).corr(art.GPA))"
   ]
  },
  {
   "cell_type": "code",
   "execution_count": 29,
   "id": "baabdfc9",
   "metadata": {},
   "outputs": [
    {
     "name": "stdout",
     "output_type": "stream",
     "text": [
      "0.2229598674659267\n"
     ]
    }
   ],
   "source": [
    "commerce = sleep_df[sleep_df['Major'] == 'Commerce']\n",
    "print((commerce.Sleep_Hours).corr(commerce.GPA))"
   ]
  },
  {
   "cell_type": "code",
   "execution_count": 11,
   "id": "fbd50f54",
   "metadata": {},
   "outputs": [
    {
     "data": {
      "image/png": "[encoded data removed]",
      "text/plain": [
       "<Figure size 1000x600 with 1 Axes>"
      ]
     },
     "metadata": {},
     "output_type": "display_data"
    }
   ],
   "source": [
    "# Count plot for categorical variables\n",
    "plt.figure(figsize=(10, 6))\n",
    "sns.countplot(x='Major', data=sleep_df)\n",
    "plt.title('Distribution of Majors')\n",
    "plt.xlabel('Major')\n",
    "plt.ylabel('Count')\n",
    "plt.grid(axis='y', linestyle='--', alpha=0.5)\n",
    "plt.show()"
   ]
  }
 ],
 "metadata": {
  "kernelspec": {
   "display_name": "Python 3",
   "language": "python",
   "name": "python3"
  },
  "language_info": {
   "codemirror_mode": {
    "name": "ipython",
    "version": 3
   },
   "file_extension": ".py",
   "mimetype": "text/x-python",
   "name": "python",
   "nbconvert_exporter": "python",
   "pygments_lexer": "ipython3",
   "version": "3.13.5"
  }
 },
 "nbformat": 4,
 "nbformat_minor": 5
}
